{
 "cells": [
  {
   "cell_type": "markdown",
   "metadata": {},
   "source": [
    "## Isolation Forest Model\n",
    "\n",
    "Let's first start by loading the libraries we will be using."
   ]
  },
  {
   "cell_type": "code",
   "execution_count": 31,
   "metadata": {},
   "outputs": [],
   "source": [
    "import os\n",
    "import sys\n",
    "import copy\n",
    "import time\n",
    "import random\n",
    "import pyspark\n",
    "import datetime\n",
    "import numpy as np\n",
    "import pandas as pd\n",
    "import matplotlib.pyplot as plt\n",
    "import seaborn as sns\n",
    "import pyspark.sql.functions as F\n",
    "from pyspark.sql import SparkSession\n",
    "from pyspark.sql.types import DoubleType, FloatType, IntegerType\n",
    "from pyspark.sql.functions import col, substring\n",
    "\n",
    "\n",
    "# for creating pipelines and model\n",
    "from pyspark.ml import Pipeline, PipelineModel\n",
    "from pyspark.ml.feature import StringIndexer, OneHotEncoder, VectorAssembler, VectorIndexer\n",
    "from pyspark.ml import Pipeline, PipelineModel\n",
    "from pyspark.ml.classification import RandomForestClassifier\n",
    "from pyspark.ml.classification import DecisionTreeClassifier\n",
    "from pyspark.ml.classification import GBTClassifier\n",
    "from pyspark.ml.evaluation import MulticlassClassificationEvaluator\n",
    "from pyspark.mllib.evaluation import BinaryClassificationMetrics\n",
    "from pyspark.ml.tuning import CrossValidator, ParamGridBuilder\n",
    "\n",
    "# sklearn\n",
    "from sklearn.metrics import precision_recall_fscore_support as score\n",
    "from sklearn.model_selection import RandomizedSearchCV\n",
    "from sklearn.model_selection import GridSearchCV\n",
    "from sklearn.model_selection import train_test_split\n",
    "from sklearn.metrics import roc_curve,auc\n",
    "from sklearn.model_selection import ParameterGrid\n",
    "from pyspark.ml.linalg import Vectors\n",
    "from pyspark_iforest.ml.iforest import *\n",
    "from pyspark.sql import functions as F\n",
    "from pyspark import SparkConf\n",
    "from pyspark.sql import SparkSession, functions as F, types as T\n",
    "from pyspark.ml.feature import VectorAssembler, StandardScaler\n",
    "from pyspark_iforest.ml.iforest import IForest, IForestModel\n",
    "from pyspark.ml.linalg import Vectors, VectorUDT\n",
    "from sklearn.metrics import confusion_matrix\n",
    "from sklearn.metrics import ConfusionMatrixDisplay"
   ]
  },
  {
   "cell_type": "markdown",
   "metadata": {},
   "source": [
    "We initialize our spark session."
   ]
  },
  {
   "cell_type": "code",
   "execution_count": 15,
   "metadata": {},
   "outputs": [],
   "source": [
    "def init_spark():\n",
    "    spark = SparkSession \\\n",
    "        .builder \\\n",
    "        .appName(\"Predictive Maintenance\") \\\n",
    "        .config(\"spark.some.config.option\", \"some-value\") \\\n",
    "        .config(\"spark.executor.memory\", \"70g\")\\\n",
    "        .config(\"spark.driver.memory\", \"50g\")\\\n",
    "        .config(\"spark.memory.offHeap.enabled\", \"true\")\\\n",
    "        .config(\"spark.memory.offHeap.size\",\"30g\")\\\n",
    "        .getOrCreate()\n",
    "    return spark\n",
    "\n",
    "spark = init_spark()"
   ]
  },
  {
   "cell_type": "markdown",
   "metadata": {},
   "source": [
    "Let's then load the preprocessed data after feature engineering and labelling."
   ]
  },
  {
   "cell_type": "code",
   "execution_count": 38,
   "metadata": {},
   "outputs": [
    {
     "name": "stdout",
     "output_type": "stream",
     "text": [
      "292142\n"
     ]
    },
    {
     "data": {
      "text/html": [
       "<div>\n",
       "<style scoped>\n",
       "    .dataframe tbody tr th:only-of-type {\n",
       "        vertical-align: middle;\n",
       "    }\n",
       "\n",
       "    .dataframe tbody tr th {\n",
       "        vertical-align: top;\n",
       "    }\n",
       "\n",
       "    .dataframe thead th {\n",
       "        text-align: right;\n",
       "    }\n",
       "</style>\n",
       "<table border=\"1\" class=\"dataframe\">\n",
       "  <thead>\n",
       "    <tr style=\"text-align: right;\">\n",
       "      <th></th>\n",
       "      <th>dt_truncated</th>\n",
       "      <th>volt_rollingmean_3</th>\n",
       "      <th>rotate_rollingmean_3</th>\n",
       "      <th>pressure_rollingmean_3</th>\n",
       "      <th>vibration_rollingmean_3</th>\n",
       "      <th>volt_rollingmean_12</th>\n",
       "      <th>rotate_rollingmean_12</th>\n",
       "      <th>pressure_rollingmean_12</th>\n",
       "      <th>vibration_rollingmean_12</th>\n",
       "      <th>volt_rollingmean_24</th>\n",
       "      <th>...</th>\n",
       "      <th>error5sum_rollingmean_12</th>\n",
       "      <th>comp1sum</th>\n",
       "      <th>comp2sum</th>\n",
       "      <th>comp3sum</th>\n",
       "      <th>comp4sum</th>\n",
       "      <th>model</th>\n",
       "      <th>age</th>\n",
       "      <th>model_encoded</th>\n",
       "      <th>failure</th>\n",
       "      <th>label</th>\n",
       "    </tr>\n",
       "  </thead>\n",
       "  <tbody>\n",
       "    <tr>\n",
       "      <th>0</th>\n",
       "      <td>2016-01-01 01:00:00</td>\n",
       "      <td>155.926136</td>\n",
       "      <td>508.873216</td>\n",
       "      <td>103.217517</td>\n",
       "      <td>44.404096</td>\n",
       "      <td>168.808851</td>\n",
       "      <td>459.669547</td>\n",
       "      <td>103.067957</td>\n",
       "      <td>41.409164</td>\n",
       "      <td>169.366028</td>\n",
       "      <td>...</td>\n",
       "      <td>0.0</td>\n",
       "      <td>579.0</td>\n",
       "      <td>534.0</td>\n",
       "      <td>474.0</td>\n",
       "      <td>459.0</td>\n",
       "      <td>4</td>\n",
       "      <td>3.0</td>\n",
       "      <td>(0.0, 1.0, 0.0)</td>\n",
       "      <td>0.0</td>\n",
       "      <td>0.0</td>\n",
       "    </tr>\n",
       "    <tr>\n",
       "      <th>1</th>\n",
       "      <td>2015-12-31 22:00:00</td>\n",
       "      <td>177.241489</td>\n",
       "      <td>443.717507</td>\n",
       "      <td>103.011478</td>\n",
       "      <td>37.057737</td>\n",
       "      <td>174.314186</td>\n",
       "      <td>450.696569</td>\n",
       "      <td>100.441772</td>\n",
       "      <td>40.051142</td>\n",
       "      <td>169.556059</td>\n",
       "      <td>...</td>\n",
       "      <td>0.0</td>\n",
       "      <td>579.0</td>\n",
       "      <td>534.0</td>\n",
       "      <td>474.0</td>\n",
       "      <td>459.0</td>\n",
       "      <td>4</td>\n",
       "      <td>3.0</td>\n",
       "      <td>(0.0, 1.0, 0.0)</td>\n",
       "      <td>0.0</td>\n",
       "      <td>0.0</td>\n",
       "    </tr>\n",
       "    <tr>\n",
       "      <th>2</th>\n",
       "      <td>2015-12-31 19:00:00</td>\n",
       "      <td>170.262559</td>\n",
       "      <td>444.910532</td>\n",
       "      <td>107.530806</td>\n",
       "      <td>40.707467</td>\n",
       "      <td>170.484633</td>\n",
       "      <td>457.562043</td>\n",
       "      <td>100.751848</td>\n",
       "      <td>41.019130</td>\n",
       "      <td>166.773586</td>\n",
       "      <td>...</td>\n",
       "      <td>0.0</td>\n",
       "      <td>579.0</td>\n",
       "      <td>534.0</td>\n",
       "      <td>474.0</td>\n",
       "      <td>459.0</td>\n",
       "      <td>4</td>\n",
       "      <td>3.0</td>\n",
       "      <td>(0.0, 1.0, 0.0)</td>\n",
       "      <td>0.0</td>\n",
       "      <td>0.0</td>\n",
       "    </tr>\n",
       "    <tr>\n",
       "      <th>3</th>\n",
       "      <td>2015-12-31 16:00:00</td>\n",
       "      <td>168.169328</td>\n",
       "      <td>453.981021</td>\n",
       "      <td>98.461255</td>\n",
       "      <td>43.418780</td>\n",
       "      <td>169.776971</td>\n",
       "      <td>456.909157</td>\n",
       "      <td>98.917461</td>\n",
       "      <td>40.899594</td>\n",
       "      <td>166.512359</td>\n",
       "      <td>...</td>\n",
       "      <td>0.0</td>\n",
       "      <td>578.0</td>\n",
       "      <td>533.0</td>\n",
       "      <td>473.0</td>\n",
       "      <td>458.0</td>\n",
       "      <td>4</td>\n",
       "      <td>3.0</td>\n",
       "      <td>(0.0, 1.0, 0.0)</td>\n",
       "      <td>0.0</td>\n",
       "      <td>0.0</td>\n",
       "    </tr>\n",
       "    <tr>\n",
       "      <th>4</th>\n",
       "      <td>2015-12-31 13:00:00</td>\n",
       "      <td>181.583369</td>\n",
       "      <td>460.177215</td>\n",
       "      <td>92.763549</td>\n",
       "      <td>39.020584</td>\n",
       "      <td>170.272706</td>\n",
       "      <td>453.480797</td>\n",
       "      <td>98.386310</td>\n",
       "      <td>40.507900</td>\n",
       "      <td>167.148002</td>\n",
       "      <td>...</td>\n",
       "      <td>0.0</td>\n",
       "      <td>578.0</td>\n",
       "      <td>533.0</td>\n",
       "      <td>473.0</td>\n",
       "      <td>458.0</td>\n",
       "      <td>4</td>\n",
       "      <td>3.0</td>\n",
       "      <td>(0.0, 1.0, 0.0)</td>\n",
       "      <td>0.0</td>\n",
       "      <td>0.0</td>\n",
       "    </tr>\n",
       "    <tr>\n",
       "      <th>5</th>\n",
       "      <td>2015-12-31 10:00:00</td>\n",
       "      <td>161.923275</td>\n",
       "      <td>471.179402</td>\n",
       "      <td>104.251783</td>\n",
       "      <td>40.929688</td>\n",
       "      <td>164.797932</td>\n",
       "      <td>446.889030</td>\n",
       "      <td>100.060783</td>\n",
       "      <td>41.448674</td>\n",
       "      <td>164.108382</td>\n",
       "      <td>...</td>\n",
       "      <td>0.0</td>\n",
       "      <td>578.0</td>\n",
       "      <td>533.0</td>\n",
       "      <td>473.0</td>\n",
       "      <td>458.0</td>\n",
       "      <td>4</td>\n",
       "      <td>3.0</td>\n",
       "      <td>(0.0, 1.0, 0.0)</td>\n",
       "      <td>0.0</td>\n",
       "      <td>0.0</td>\n",
       "    </tr>\n",
       "    <tr>\n",
       "      <th>6</th>\n",
       "      <td>2015-12-31 07:00:00</td>\n",
       "      <td>167.431912</td>\n",
       "      <td>442.298992</td>\n",
       "      <td>100.193256</td>\n",
       "      <td>40.229322</td>\n",
       "      <td>163.062540</td>\n",
       "      <td>442.763560</td>\n",
       "      <td>99.445755</td>\n",
       "      <td>41.622275</td>\n",
       "      <td>163.607945</td>\n",
       "      <td>...</td>\n",
       "      <td>0.0</td>\n",
       "      <td>578.0</td>\n",
       "      <td>533.0</td>\n",
       "      <td>473.0</td>\n",
       "      <td>458.0</td>\n",
       "      <td>4</td>\n",
       "      <td>3.0</td>\n",
       "      <td>(0.0, 1.0, 0.0)</td>\n",
       "      <td>0.0</td>\n",
       "      <td>0.0</td>\n",
       "    </tr>\n",
       "    <tr>\n",
       "      <th>7</th>\n",
       "      <td>2015-12-31 04:00:00</td>\n",
       "      <td>170.152267</td>\n",
       "      <td>440.267578</td>\n",
       "      <td>96.336650</td>\n",
       "      <td>41.852004</td>\n",
       "      <td>163.247748</td>\n",
       "      <td>445.304944</td>\n",
       "      <td>101.090962</td>\n",
       "      <td>42.385029</td>\n",
       "      <td>163.894898</td>\n",
       "      <td>...</td>\n",
       "      <td>0.0</td>\n",
       "      <td>578.0</td>\n",
       "      <td>533.0</td>\n",
       "      <td>473.0</td>\n",
       "      <td>458.0</td>\n",
       "      <td>4</td>\n",
       "      <td>3.0</td>\n",
       "      <td>(0.0, 1.0, 0.0)</td>\n",
       "      <td>0.0</td>\n",
       "      <td>0.0</td>\n",
       "    </tr>\n",
       "    <tr>\n",
       "      <th>8</th>\n",
       "      <td>2015-12-31 01:00:00</td>\n",
       "      <td>159.684275</td>\n",
       "      <td>433.810148</td>\n",
       "      <td>99.461441</td>\n",
       "      <td>42.783680</td>\n",
       "      <td>164.023299</td>\n",
       "      <td>447.469174</td>\n",
       "      <td>102.041216</td>\n",
       "      <td>42.653336</td>\n",
       "      <td>165.401512</td>\n",
       "      <td>...</td>\n",
       "      <td>0.0</td>\n",
       "      <td>578.0</td>\n",
       "      <td>533.0</td>\n",
       "      <td>473.0</td>\n",
       "      <td>458.0</td>\n",
       "      <td>4</td>\n",
       "      <td>3.0</td>\n",
       "      <td>(0.0, 1.0, 0.0)</td>\n",
       "      <td>0.0</td>\n",
       "      <td>0.0</td>\n",
       "    </tr>\n",
       "    <tr>\n",
       "      <th>9</th>\n",
       "      <td>2015-12-30 22:00:00</td>\n",
       "      <td>154.981705</td>\n",
       "      <td>454.677523</td>\n",
       "      <td>101.791672</td>\n",
       "      <td>41.624095</td>\n",
       "      <td>163.418831</td>\n",
       "      <td>448.430676</td>\n",
       "      <td>102.840632</td>\n",
       "      <td>42.795697</td>\n",
       "      <td>166.756664</td>\n",
       "      <td>...</td>\n",
       "      <td>0.0</td>\n",
       "      <td>578.0</td>\n",
       "      <td>533.0</td>\n",
       "      <td>473.0</td>\n",
       "      <td>458.0</td>\n",
       "      <td>4</td>\n",
       "      <td>3.0</td>\n",
       "      <td>(0.0, 1.0, 0.0)</td>\n",
       "      <td>0.0</td>\n",
       "      <td>0.0</td>\n",
       "    </tr>\n",
       "  </tbody>\n",
       "</table>\n",
       "<p>10 rows × 40 columns</p>\n",
       "</div>"
      ],
      "text/plain": [
       "         dt_truncated  volt_rollingmean_3  rotate_rollingmean_3  \\\n",
       "0 2016-01-01 01:00:00          155.926136            508.873216   \n",
       "1 2015-12-31 22:00:00          177.241489            443.717507   \n",
       "2 2015-12-31 19:00:00          170.262559            444.910532   \n",
       "3 2015-12-31 16:00:00          168.169328            453.981021   \n",
       "4 2015-12-31 13:00:00          181.583369            460.177215   \n",
       "5 2015-12-31 10:00:00          161.923275            471.179402   \n",
       "6 2015-12-31 07:00:00          167.431912            442.298992   \n",
       "7 2015-12-31 04:00:00          170.152267            440.267578   \n",
       "8 2015-12-31 01:00:00          159.684275            433.810148   \n",
       "9 2015-12-30 22:00:00          154.981705            454.677523   \n",
       "\n",
       "   pressure_rollingmean_3  vibration_rollingmean_3  volt_rollingmean_12  \\\n",
       "0              103.217517                44.404096           168.808851   \n",
       "1              103.011478                37.057737           174.314186   \n",
       "2              107.530806                40.707467           170.484633   \n",
       "3               98.461255                43.418780           169.776971   \n",
       "4               92.763549                39.020584           170.272706   \n",
       "5              104.251783                40.929688           164.797932   \n",
       "6              100.193256                40.229322           163.062540   \n",
       "7               96.336650                41.852004           163.247748   \n",
       "8               99.461441                42.783680           164.023299   \n",
       "9              101.791672                41.624095           163.418831   \n",
       "\n",
       "   rotate_rollingmean_12  pressure_rollingmean_12  vibration_rollingmean_12  \\\n",
       "0             459.669547               103.067957                 41.409164   \n",
       "1             450.696569               100.441772                 40.051142   \n",
       "2             457.562043               100.751848                 41.019130   \n",
       "3             456.909157                98.917461                 40.899594   \n",
       "4             453.480797                98.386310                 40.507900   \n",
       "5             446.889030               100.060783                 41.448674   \n",
       "6             442.763560                99.445755                 41.622275   \n",
       "7             445.304944               101.090962                 42.385029   \n",
       "8             447.469174               102.041216                 42.653336   \n",
       "9             448.430676               102.840632                 42.795697   \n",
       "\n",
       "   volt_rollingmean_24  ...  error5sum_rollingmean_12  comp1sum  comp2sum  \\\n",
       "0           169.366028  ...                       0.0     579.0     534.0   \n",
       "1           169.556059  ...                       0.0     579.0     534.0   \n",
       "2           166.773586  ...                       0.0     579.0     534.0   \n",
       "3           166.512359  ...                       0.0     578.0     533.0   \n",
       "4           167.148002  ...                       0.0     578.0     533.0   \n",
       "5           164.108382  ...                       0.0     578.0     533.0   \n",
       "6           163.607945  ...                       0.0     578.0     533.0   \n",
       "7           163.894898  ...                       0.0     578.0     533.0   \n",
       "8           165.401512  ...                       0.0     578.0     533.0   \n",
       "9           166.756664  ...                       0.0     578.0     533.0   \n",
       "\n",
       "   comp3sum  comp4sum  model  age    model_encoded  failure  label  \n",
       "0     474.0     459.0      4  3.0  (0.0, 1.0, 0.0)      0.0    0.0  \n",
       "1     474.0     459.0      4  3.0  (0.0, 1.0, 0.0)      0.0    0.0  \n",
       "2     474.0     459.0      4  3.0  (0.0, 1.0, 0.0)      0.0    0.0  \n",
       "3     473.0     458.0      4  3.0  (0.0, 1.0, 0.0)      0.0    0.0  \n",
       "4     473.0     458.0      4  3.0  (0.0, 1.0, 0.0)      0.0    0.0  \n",
       "5     473.0     458.0      4  3.0  (0.0, 1.0, 0.0)      0.0    0.0  \n",
       "6     473.0     458.0      4  3.0  (0.0, 1.0, 0.0)      0.0    0.0  \n",
       "7     473.0     458.0      4  3.0  (0.0, 1.0, 0.0)      0.0    0.0  \n",
       "8     473.0     458.0      4  3.0  (0.0, 1.0, 0.0)      0.0    0.0  \n",
       "9     473.0     458.0      4  3.0  (0.0, 1.0, 0.0)      0.0    0.0  \n",
       "\n",
       "[10 rows x 40 columns]"
      ]
     },
     "execution_count": 38,
     "metadata": {},
     "output_type": "execute_result"
    }
   ],
   "source": [
    "feat_data = spark.read.parquet('../data/labeled_features3.parquet')\n",
    "feat_data = feat_data.withColumn(\"age\", feat_data.age.cast(DoubleType()))\n",
    "feat_data = feat_data.withColumnRenamed(\"label_e\", \"label\")\n",
    "feat_data = feat_data.withColumn(\"model\", substring(\"model\", 6,1).cast(IntegerType()))\n",
    "\n",
    "print(feat_data.count())\n",
    "\n",
    "# highly imbalanced data\n",
    "label_count_pd = feat_data.groupby('label').count().toPandas()\n",
    "feat_data.limit(10).toPandas().head(10)"
   ]
  },
  {
   "cell_type": "markdown",
   "metadata": {},
   "source": [
    "However, the data is very imbalanced. Most of the time there are no failures at all. We will tackle this by undersampling."
   ]
  },
  {
   "cell_type": "code",
   "execution_count": 39,
   "metadata": {},
   "outputs": [
    {
     "data": {
      "image/png": "[encoded data removed]",
      "text/plain": [
       "<Figure size 720x432 with 1 Axes>"
      ]
     },
     "metadata": {},
     "output_type": "display_data"
    }
   ],
   "source": [
    "sns.set_theme(style=\"whitegrid\")\n",
    "pie, ax = plt.subplots(figsize=[10,6])\n",
    "plt.pie(x=label_count_pd['count'].tolist(), autopct=\"%.1f%%\", explode=[0.05]*5, labels=label_count_pd['label'].tolist(), pctdistance=0.5)\n",
    "plt.title(\"Labels\", fontsize=14)\n",
    "plt.show()"
   ]
  },
  {
   "cell_type": "markdown",
   "metadata": {},
   "source": [
    "We remove some columns as input features."
   ]
  },
  {
   "cell_type": "code",
   "execution_count": 17,
   "metadata": {},
   "outputs": [
    {
     "data": {
      "text/plain": [
       "['volt_rollingmean_3',\n",
       " 'rotate_rollingmean_3',\n",
       " 'pressure_rollingmean_3',\n",
       " 'vibration_rollingmean_3',\n",
       " 'volt_rollingmean_12',\n",
       " 'rotate_rollingmean_12',\n",
       " 'pressure_rollingmean_12',\n",
       " 'vibration_rollingmean_12',\n",
       " 'volt_rollingmean_24',\n",
       " 'vibration_rollingmean_24',\n",
       " 'rotate_rollingmean_24',\n",
       " 'pressure_rollingmean_24',\n",
       " 'volt_rollingstd_3',\n",
       " 'rotate_rollingstd_3',\n",
       " 'pressure_rollingstd_3',\n",
       " 'vibration_rollingstd_3',\n",
       " 'volt_rollingstd_12',\n",
       " 'rotate_rollingstd_12',\n",
       " 'pressure_rollingstd_12',\n",
       " 'vibration_rollingstd_12',\n",
       " 'volt_rollingstd_24',\n",
       " 'rotate_rollingstd_24',\n",
       " 'pressure_rollingstd_24',\n",
       " 'vibration_rollingstd_24',\n",
       " 'error1sum_rollingmean_12',\n",
       " 'error2sum_rollingmean_12',\n",
       " 'error3sum_rollingmean_12',\n",
       " 'error4sum_rollingmean_12',\n",
       " 'error5sum_rollingmean_12',\n",
       " 'comp1sum',\n",
       " 'comp2sum',\n",
       " 'comp3sum',\n",
       " 'comp4sum',\n",
       " 'model',\n",
       " 'age']"
      ]
     },
     "execution_count": 17,
     "metadata": {},
     "output_type": "execute_result"
    }
   ],
   "source": [
    "label_var = ['label']\n",
    "key_cols =['machineID','dt_truncated']\n",
    "input_features = feat_data.columns\n",
    "remove_cols = label_var + key_cols + ['failure','model_encoded']\n",
    "\n",
    "# Remove the extra names if that are in the input_features list\n",
    "input_features = [x for x in input_features if x not in set(remove_cols)]\n",
    "# Use cols\n",
    "input_features"
   ]
  },
  {
   "cell_type": "markdown",
   "metadata": {},
   "source": [
    "### Train/ Test split\n",
    "\n",
    "Here, we assemble the features to be used as input features and split the data into training and testing. The split will be 10 months for training and 2 months for testing.\n",
    "\n",
    "We then undersample the labels as 0 so the model is less biased."
   ]
  },
  {
   "cell_type": "code",
   "execution_count": 18,
   "metadata": {},
   "outputs": [
    {
     "name": "stdout",
     "output_type": "stream",
     "text": [
      "52257\n",
      "50508\n"
     ]
    }
   ],
   "source": [
    "# assemble features\n",
    "va = VectorAssembler(inputCols=(input_features), outputCol='features')\n",
    "feat_data = va.transform(feat_data).select('machineID','dt_truncated','label','features')\n",
    "\n",
    "feat_data = feat_data.withColumn(\"label\", F.when(feat_data[\"label\"] > 0, 1).otherwise(feat_data[\"label\"]))\n",
    "\n",
    "# set maxCategories so features with > 10 distinct values are treated as continuous.\n",
    "featureIndexer = VectorIndexer(inputCol=\"features\", \n",
    "                               outputCol=\"indexedFeatures\", \n",
    "                               maxCategories=10).fit(feat_data)\n",
    "\n",
    "# fit on whole dataset to include all labels in index\n",
    "labelIndexer = StringIndexer(inputCol=\"label\", outputCol=\"indexedLabel\").fit(feat_data)\n",
    "\n",
    "# split the data into train/test based on date\n",
    "split_date = \"2015-10-30\"\n",
    "training = feat_data.filter(feat_data.dt_truncated < split_date)\n",
    "testing = feat_data.filter(feat_data.dt_truncated >= split_date)\n",
    "\n",
    "# Undersampling\n",
    "training = training.sampleBy('label', fractions={0: 0.2, 1: 1.0, 2: 1.0, 3: 1.0, 4: 1.0}, seed=0)\n",
    "\n",
    "print(training.count())\n",
    "print(testing.count())"
   ]
  },
  {
   "cell_type": "markdown",
   "metadata": {},
   "source": [
    "As we can see below, it is less imbalanced than before."
   ]
  },
  {
   "cell_type": "code",
   "execution_count": 41,
   "metadata": {
    "scrolled": true
   },
   "outputs": [
    {
     "data": {
      "image/png": "[encoded data removed]",
      "text/plain": [
       "<Figure size 720x432 with 1 Axes>"
      ]
     },
     "metadata": {},
     "output_type": "display_data"
    }
   ],
   "source": [
    "label_count_pd = training.groupby('label').count().toPandas()\n",
    "pie, ax = plt.subplots(figsize=[10,6])\n",
    "plt.pie(x=label_count_pd['count'].tolist(), autopct=\"%.1f%%\", explode=[0.05]*2, labels=label_count_pd['label'].tolist(), pctdistance=0.5)\n",
    "plt.title(\"Labels\", fontsize=14)\n",
    "plt.show()"
   ]
  },
  {
   "cell_type": "markdown",
   "metadata": {},
   "source": [
    "### Training\n",
    "\n",
    "Here, we will then train the IF model make predictions. We use an open source library since it is not available right from pyspark. Link to library: [titicaca](https://github.com/titicaca/spark-iforest)"
   ]
  },
  {
   "cell_type": "code",
   "execution_count": 20,
   "metadata": {},
   "outputs": [
    {
     "data": {
      "text/plain": [
       "4052"
      ]
     },
     "execution_count": 20,
     "metadata": {},
     "output_type": "execute_result"
    }
   ],
   "source": [
    "# conf = SparkConf()\n",
    "# conf.set('spark.jars', '/opt/spark2.4.7/jars/spark-iforest-2.4.0.jar')\n",
    "\n",
    "# spark = SparkSession \\\n",
    "#         .builder \\\n",
    "#         .config(conf=conf) \\\n",
    "#         .appName(\"IForestExample\") \\\n",
    "#         .getOrCreate()\n",
    "\n",
    "df = training\n",
    "\n",
    "# scaler = StandardScaler(inputCol='vectorized_features', outputCol='scaled_features')\n",
    "contamination_ratio = (1337 + 1473 + 1000 + 1862) / (1337 + 1473 + 1000 + 1862 + 67470 )\n",
    "\n",
    "# clf = IsolationForest(contamination=contamination_ratio, max_features=1.0, random_state=0,\n",
    "#                       n_estimators=500, bootstrap=True, warm_start=True)\n",
    "\n",
    "iforest = IForest(contamination=contamination_ratio, numTrees=400, maxFeatures=1, maxSamples=8000, bootstrap=True)\n",
    "iforest.setFeaturesCol('features')\n",
    "iforest.setSeed(0)  # for reproducibility\n",
    "\n",
    "# scaler_model = scaler.fit(df)\n",
    "# df = scaler_model.transform(df)\n",
    "model = iforest.fit(df, {'threshold': 0.5})\n",
    "\n",
    "# Check if the model has summary or not, the newly trained model has the summary info\n",
    "model.hasSummary\n",
    "\n",
    "# Show model summary\n",
    "summary = model.summary\n",
    "\n",
    "# Show the number of anomalies\n",
    "summary.numAnomalies"
   ]
  },
  {
   "cell_type": "code",
   "execution_count": 21,
   "metadata": {
    "scrolled": false
   },
   "outputs": [
    {
     "name": "stdout",
     "output_type": "stream",
     "text": [
      "+-----+----------+-----+\n",
      "|label|prediction|count|\n",
      "+-----+----------+-----+\n",
      "|  1.0|       1.0|  873|\n",
      "|  0.0|       1.0| 5598|\n",
      "|  1.0|       0.0|   72|\n",
      "|  0.0|       0.0|43965|\n",
      "+-----+----------+-----+\n",
      "\n"
     ]
    }
   ],
   "source": [
    "# Predict for a new data frame based on the fitted model\n",
    "predictions_rf = model.transform(testing)\n",
    "\n",
    "predictions_rf.groupby('label', 'prediction').count().show()"
   ]
  },
  {
   "cell_type": "markdown",
   "metadata": {},
   "source": [
    "### Evaluation\n",
    "\n",
    "We then evaluate the model with the following metrics"
   ]
  },
  {
   "cell_type": "code",
   "execution_count": 22,
   "metadata": {},
   "outputs": [
    {
     "name": "stdout",
     "output_type": "stream",
     "text": [
      "Area under ROC = 0.566637\n",
      "Area under PR = 0.579637\n",
      "\n",
      "Accuracy = 0.887741\n",
      "Weighted Precision = 0.98221\n",
      "Weighted Recall = 0.887741\n",
      "F1 = 0.926252\n"
     ]
    },
    {
     "data": {
      "image/png": "[encoded data removed]",
      "text/plain": [
       "<Figure size 360x360 with 1 Axes>"
      ]
     },
     "metadata": {
      "needs_background": "light"
     },
     "output_type": "display_data"
    }
   ],
   "source": [
    "predictionAndLabels = predictions_rf.select(\"label\", \"prediction\").rdd\n",
    "metrics = BinaryClassificationMetrics(predictionAndLabels)\n",
    "print(\"Area under ROC = %g\" % metrics.areaUnderROC)\n",
    "print(\"Area under PR = %g\\n\" % metrics.areaUnderPR)\n",
    "\n",
    "# Select (prediction, true label) and compute test error\n",
    "evaluator = MulticlassClassificationEvaluator(labelCol=\"label\", predictionCol=\"prediction\")\n",
    "print(\"Accuracy = %g\" % evaluator.evaluate(predictions_rf, {evaluator.metricName: \"accuracy\"}))\n",
    "print(\"Weighted Precision = %g\" % evaluator.evaluate(predictions_rf, {evaluator.metricName: \"weightedPrecision\"}))\n",
    "print(\"Weighted Recall = %g\" % evaluator.evaluate(predictions_rf, {evaluator.metricName: \"weightedRecall\"}))\n",
    "print(\"F1 = %g\" % evaluator.evaluate(predictions_rf, {evaluator.metricName: \"f1\"}))\n",
    "\n",
    "# PLOT ROC curve after converting predictions to a Pandas dataframe\n",
    "%matplotlib inline\n",
    "predictions_rf_pddf = predictions_rf.select('label','anomalyScore').toPandas()\n",
    "labels = predictions_rf_pddf[\"label\"]\n",
    "prob = []\n",
    "for dv in predictions_rf_pddf[\"anomalyScore\"]:\n",
    "    prob.append(dv)\n",
    "     \n",
    "fpr, tpr, thresholds = roc_curve(labels, prob, pos_label=1.0);\n",
    "roc_auc = auc(fpr, tpr)\n",
    "\n",
    "plt.figure(figsize=(5, 5))\n",
    "plt.plot(fpr, tpr, label='ROC curve (area = %0.2f)' % roc_auc)\n",
    "plt.plot([0, 1], [0, 1], 'k--')\n",
    "plt.xlim([0.0, 1.0])\n",
    "plt.ylim([0.0, 1.05])\n",
    "plt.xlabel('False Positive Rate')\n",
    "plt.ylabel('True Positive Rate')\n",
    "plt.title('ROC Curve')\n",
    "plt.legend(loc=\"lower right\")\n",
    "plt.show()"
   ]
  },
  {
   "cell_type": "markdown",
   "metadata": {},
   "source": [
    "As we can see, it performs way less well than RF or XGB. This was to be expected, since it is a binary classification algorithm. \n",
    "\n",
    "\n",
    "Having a closer look at each classes:"
   ]
  },
  {
   "cell_type": "code",
   "execution_count": 24,
   "metadata": {},
   "outputs": [
    {
     "name": "stdout",
     "output_type": "stream",
     "text": [
      "precision: [0.99836501 0.1349096 ]\n",
      "recall: [0.88705284 0.92380952]\n",
      "fscore: [0.93942308 0.23543689]\n",
      "support: [49563   945]\n"
     ]
    }
   ],
   "source": [
    "# Use sklearn\n",
    "rf_result = predictions_rf.select('label', 'prediction').toPandas()\n",
    "\n",
    "rf_label = rf_result['label'].tolist()\n",
    "rf_prediction = rf_result['prediction'].tolist()\n",
    "\n",
    "precision, recall, fscore, support = score(rf_label, rf_prediction)\n",
    "\n",
    "print('precision: {}'.format(precision))\n",
    "print('recall: {}'.format(recall))\n",
    "print('fscore: {}'.format(fscore))\n",
    "print('support: {}'.format(support))"
   ]
  },
  {
   "cell_type": "markdown",
   "metadata": {},
   "source": [
    " Let's take a look at the confusion matrix."
   ]
  },
  {
   "cell_type": "code",
   "execution_count": 28,
   "metadata": {},
   "outputs": [],
   "source": [
    "cm = confusion_matrix(predictions_rf.select('label').collect(), predictions_rf.select('prediction').collect())"
   ]
  },
  {
   "cell_type": "code",
   "execution_count": 29,
   "metadata": {},
   "outputs": [],
   "source": [
    "cm = cm.astype('float') / cm.sum(axis=0)[:, np.newaxis]"
   ]
  },
  {
   "cell_type": "code",
   "execution_count": 32,
   "metadata": {},
   "outputs": [
    {
     "data": {
      "image/png": "[encoded data removed]",
      "text/plain": [
       "<Figure size 432x288 with 2 Axes>"
      ]
     },
     "metadata": {
      "needs_background": "light"
     },
     "output_type": "display_data"
    }
   ],
   "source": [
    "f = sns.heatmap(cm, cmap=\"YlGnBu\")"
   ]
  },
  {
   "cell_type": "markdown",
   "metadata": {},
   "source": [
    "Unfortunately, IF fails to predict the failures correctly."
   ]
  }
 ],
 "metadata": {
  "kernelspec": {
   "display_name": "Python 3",
   "language": "python",
   "name": "python3"
  },
  "language_info": {
   "codemirror_mode": {
    "name": "ipython",
    "version": 3
   },
   "file_extension": ".py",
   "mimetype": "text/x-python",
   "name": "python",
   "nbconvert_exporter": "python",
   "pygments_lexer": "ipython3",
   "version": "3.6.9"
  }
 },
 "nbformat": 4,
 "nbformat_minor": 2
}
