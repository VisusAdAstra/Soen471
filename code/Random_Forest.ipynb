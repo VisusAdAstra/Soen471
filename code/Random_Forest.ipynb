{
 "cells": [
  {
   "cell_type": "code",
   "execution_count": 44,
   "metadata": {
    "colab": {
     "base_uri": "https://localhost:8080/"
    },
    "id": "a3F9l483NkVh",
    "outputId": "be2ae6fd-cb4c-408b-a67d-0f4235a3da7a"
   },
   "outputs": [],
   "source": [
    "# from google.colab import drive\n",
    "# drive.mount('/content/drive')\n",
    "\n",
    "import os\n",
    "import sys\n",
    "import copy\n",
    "import time\n",
    "import random\n",
    "import pyspark\n",
    "import datetime\n",
    "import numpy as np\n",
    "import pandas as pd\n",
    "import matplotlib.pyplot as plt\n",
    "import pyspark.sql.functions as F\n",
    "from pyspark.sql import SparkSession\n",
    "from pyspark.sql.types import DoubleType\n",
    "import seaborn as sns\n",
    "\n",
    "# for creating pipelines and model\n",
    "from pyspark.ml import Pipeline, PipelineModel\n",
    "from pyspark.ml.feature import StringIndexer, OneHotEncoder, VectorAssembler, VectorIndexer\n",
    "from pyspark.ml import Pipeline, PipelineModel\n",
    "from pyspark.ml.classification import RandomForestClassifier\n",
    "from pyspark.ml.classification import DecisionTreeClassifier\n",
    "from pyspark.ml.classification import GBTClassifier\n",
    "from pyspark.ml.evaluation import MulticlassClassificationEvaluator\n",
    "from pyspark.mllib.evaluation import BinaryClassificationMetrics\n",
    "from pyspark.ml.tuning import CrossValidator, ParamGridBuilder\n",
    "\n",
    "# sklearn\n",
    "from sklearn.metrics import precision_recall_fscore_support as score\n",
    "from sklearn.model_selection import RandomizedSearchCV\n",
    "from sklearn.model_selection import GridSearchCV\n",
    "from sklearn.model_selection import train_test_split\n",
    "from sklearn.metrics import roc_curve,auc\n",
    "from sklearn.model_selection import ParameterGrid\n",
    "from sklearn.metrics import confusion_matrix\n",
    "from sklearn.metrics import ConfusionMatrixDisplay"
   ]
  },
  {
   "cell_type": "code",
   "execution_count": 16,
   "metadata": {
    "id": "C6Xh6qvaNkVm"
   },
   "outputs": [],
   "source": [
    "def init_spark():\n",
    "    spark = SparkSession \\\n",
    "        .builder \\\n",
    "        .appName(\"Predictive Maintenance\") \\\n",
    "        .config(\"spark.some.config.option\", \"some-value\") \\\n",
    "        .config(\"spark.executor.memory\", \"70g\")\\\n",
    "        .config(\"spark.driver.memory\", \"50g\")\\\n",
    "        .config(\"spark.memory.offHeap.enabled\", \"true\")\\\n",
    "        .config(\"spark.memory.offHeap.size\",\"30g\")\\\n",
    "        .getOrCreate()\n",
    "    return spark\n",
    "\n",
    "spark = init_spark()"
   ]
  },
  {
   "cell_type": "code",
   "execution_count": 18,
   "metadata": {
    "colab": {
     "base_uri": "https://localhost:8080/"
    },
    "id": "BsLaia1pNkVn",
    "outputId": "126285a3-ba26-40f0-f309-f3d42136bee1"
   },
   "outputs": [
    {
     "name": "stdout",
     "output_type": "stream",
     "text": [
      "100\n",
      "+---------+------+---+\n",
      "|machineID| model|age|\n",
      "+---------+------+---+\n",
      "|        1|model3| 18|\n",
      "|        2|model4|  7|\n",
      "|        3|model3|  8|\n",
      "|        4|model3|  7|\n",
      "|        5|model3|  2|\n",
      "|        6|model3|  7|\n",
      "|        7|model3| 20|\n",
      "|        8|model3| 16|\n",
      "|        9|model4|  7|\n",
      "|       10|model3| 10|\n",
      "|       11|model2|  6|\n",
      "|       12|model3|  9|\n",
      "|       13|model1| 15|\n",
      "|       14|model3|  1|\n",
      "|       15|model3| 14|\n",
      "|       16|model1|  3|\n",
      "|       17|model1| 14|\n",
      "|       18|model3| 15|\n",
      "|       19|model3| 17|\n",
      "|       20|model2| 16|\n",
      "+---------+------+---+\n",
      "only showing top 20 rows\n",
      "\n"
     ]
    }
   ],
   "source": [
    "filename = \"../data/machines.csv\"\n",
    "machines = spark.read.csv(filename, sep=',', header=True)\n",
    "\n",
    "print(machines.count())\n",
    "machines.show()"
   ]
  },
  {
   "cell_type": "code",
   "execution_count": 19,
   "metadata": {
    "colab": {
     "base_uri": "https://localhost:8080/",
     "height": 736
    },
    "id": "S3GTvVybNkVo",
    "outputId": "11dccf6b-bf84-42fe-c3cb-de1760526a78",
    "scrolled": true
   },
   "outputs": [
    {
     "name": "stdout",
     "output_type": "stream",
     "text": [
      "73142\n"
     ]
    },
    {
     "data": {
      "text/html": [
       "<div>\n",
       "<style scoped>\n",
       "    .dataframe tbody tr th:only-of-type {\n",
       "        vertical-align: middle;\n",
       "    }\n",
       "\n",
       "    .dataframe tbody tr th {\n",
       "        vertical-align: top;\n",
       "    }\n",
       "\n",
       "    .dataframe thead th {\n",
       "        text-align: right;\n",
       "    }\n",
       "</style>\n",
       "<table border=\"1\" class=\"dataframe\">\n",
       "  <thead>\n",
       "    <tr style=\"text-align: right;\">\n",
       "      <th></th>\n",
       "      <th>dt_truncated</th>\n",
       "      <th>volt_rollingmean_12</th>\n",
       "      <th>rotate_rollingmean_12</th>\n",
       "      <th>pressure_rollingmean_12</th>\n",
       "      <th>vibration_rollingmean_12</th>\n",
       "      <th>volt_rollingmean_24</th>\n",
       "      <th>rotate_rollingmean_24</th>\n",
       "      <th>pressure_rollingmean_24</th>\n",
       "      <th>vibration_rollingmean_24</th>\n",
       "      <th>volt_rollingmean_36</th>\n",
       "      <th>...</th>\n",
       "      <th>error5sum_rollingmean_24</th>\n",
       "      <th>comp1sum</th>\n",
       "      <th>comp2sum</th>\n",
       "      <th>comp3sum</th>\n",
       "      <th>comp4sum</th>\n",
       "      <th>model</th>\n",
       "      <th>age</th>\n",
       "      <th>model_encoded</th>\n",
       "      <th>failure</th>\n",
       "      <th>label</th>\n",
       "    </tr>\n",
       "  </thead>\n",
       "  <tbody>\n",
       "    <tr>\n",
       "      <th>0</th>\n",
       "      <td>2016-01-01 07:00:00</td>\n",
       "      <td>172.083928</td>\n",
       "      <td>453.576897</td>\n",
       "      <td>101.303110</td>\n",
       "      <td>40.627410</td>\n",
       "      <td>169.230878</td>\n",
       "      <td>451.007306</td>\n",
       "      <td>100.487259</td>\n",
       "      <td>40.839262</td>\n",
       "      <td>167.339602</td>\n",
       "      <td>...</td>\n",
       "      <td>0.0</td>\n",
       "      <td>579.0</td>\n",
       "      <td>534.0</td>\n",
       "      <td>474.0</td>\n",
       "      <td>459.0</td>\n",
       "      <td>model4</td>\n",
       "      <td>3.0</td>\n",
       "      <td>(0.0, 1.0, 0.0)</td>\n",
       "      <td>0.0</td>\n",
       "      <td>0.0</td>\n",
       "    </tr>\n",
       "    <tr>\n",
       "      <th>1</th>\n",
       "      <td>2015-12-31 19:00:00</td>\n",
       "      <td>168.173348</td>\n",
       "      <td>453.181951</td>\n",
       "      <td>99.527531</td>\n",
       "      <td>40.981132</td>\n",
       "      <td>165.787189</td>\n",
       "      <td>449.842118</td>\n",
       "      <td>100.598808</td>\n",
       "      <td>41.791947</td>\n",
       "      <td>166.190766</td>\n",
       "      <td>...</td>\n",
       "      <td>0.0</td>\n",
       "      <td>578.0</td>\n",
       "      <td>533.0</td>\n",
       "      <td>473.0</td>\n",
       "      <td>458.0</td>\n",
       "      <td>model4</td>\n",
       "      <td>3.0</td>\n",
       "      <td>(0.0, 1.0, 0.0)</td>\n",
       "      <td>0.0</td>\n",
       "      <td>0.0</td>\n",
       "    </tr>\n",
       "    <tr>\n",
       "      <th>2</th>\n",
       "      <td>2015-12-31 07:00:00</td>\n",
       "      <td>163.401030</td>\n",
       "      <td>446.502286</td>\n",
       "      <td>101.670084</td>\n",
       "      <td>42.602762</td>\n",
       "      <td>165.199475</td>\n",
       "      <td>445.038344</td>\n",
       "      <td>101.074817</td>\n",
       "      <td>41.722713</td>\n",
       "      <td>168.995817</td>\n",
       "      <td>...</td>\n",
       "      <td>0.0</td>\n",
       "      <td>578.0</td>\n",
       "      <td>533.0</td>\n",
       "      <td>473.0</td>\n",
       "      <td>458.0</td>\n",
       "      <td>model4</td>\n",
       "      <td>3.0</td>\n",
       "      <td>(0.0, 1.0, 0.0)</td>\n",
       "      <td>0.0</td>\n",
       "      <td>0.0</td>\n",
       "    </tr>\n",
       "    <tr>\n",
       "      <th>3</th>\n",
       "      <td>2015-12-30 19:00:00</td>\n",
       "      <td>166.997919</td>\n",
       "      <td>443.574402</td>\n",
       "      <td>100.479550</td>\n",
       "      <td>40.842664</td>\n",
       "      <td>171.793211</td>\n",
       "      <td>450.456864</td>\n",
       "      <td>100.955598</td>\n",
       "      <td>40.418503</td>\n",
       "      <td>172.419415</td>\n",
       "      <td>...</td>\n",
       "      <td>0.0</td>\n",
       "      <td>577.0</td>\n",
       "      <td>532.0</td>\n",
       "      <td>472.0</td>\n",
       "      <td>457.0</td>\n",
       "      <td>model4</td>\n",
       "      <td>3.0</td>\n",
       "      <td>(0.0, 1.0, 0.0)</td>\n",
       "      <td>0.0</td>\n",
       "      <td>0.0</td>\n",
       "    </tr>\n",
       "    <tr>\n",
       "      <th>4</th>\n",
       "      <td>2015-12-30 07:00:00</td>\n",
       "      <td>176.588502</td>\n",
       "      <td>457.339327</td>\n",
       "      <td>101.431647</td>\n",
       "      <td>39.994342</td>\n",
       "      <td>175.130162</td>\n",
       "      <td>466.483595</td>\n",
       "      <td>99.468624</td>\n",
       "      <td>40.920312</td>\n",
       "      <td>174.914358</td>\n",
       "      <td>...</td>\n",
       "      <td>0.0</td>\n",
       "      <td>577.0</td>\n",
       "      <td>532.0</td>\n",
       "      <td>472.0</td>\n",
       "      <td>457.0</td>\n",
       "      <td>model4</td>\n",
       "      <td>3.0</td>\n",
       "      <td>(0.0, 1.0, 0.0)</td>\n",
       "      <td>0.0</td>\n",
       "      <td>0.0</td>\n",
       "    </tr>\n",
       "    <tr>\n",
       "      <th>5</th>\n",
       "      <td>2015-12-29 19:00:00</td>\n",
       "      <td>173.671822</td>\n",
       "      <td>475.627863</td>\n",
       "      <td>97.505602</td>\n",
       "      <td>41.846282</td>\n",
       "      <td>174.077285</td>\n",
       "      <td>464.681249</td>\n",
       "      <td>99.852795</td>\n",
       "      <td>41.520096</td>\n",
       "      <td>173.561514</td>\n",
       "      <td>...</td>\n",
       "      <td>0.0</td>\n",
       "      <td>576.0</td>\n",
       "      <td>531.0</td>\n",
       "      <td>471.0</td>\n",
       "      <td>456.0</td>\n",
       "      <td>model4</td>\n",
       "      <td>3.0</td>\n",
       "      <td>(0.0, 1.0, 0.0)</td>\n",
       "      <td>0.0</td>\n",
       "      <td>0.0</td>\n",
       "    </tr>\n",
       "    <tr>\n",
       "      <th>6</th>\n",
       "      <td>2015-12-29 07:00:00</td>\n",
       "      <td>174.482749</td>\n",
       "      <td>453.734636</td>\n",
       "      <td>102.199989</td>\n",
       "      <td>41.193909</td>\n",
       "      <td>173.506360</td>\n",
       "      <td>450.268077</td>\n",
       "      <td>101.890206</td>\n",
       "      <td>39.760938</td>\n",
       "      <td>173.318924</td>\n",
       "      <td>...</td>\n",
       "      <td>0.0</td>\n",
       "      <td>576.0</td>\n",
       "      <td>531.0</td>\n",
       "      <td>471.0</td>\n",
       "      <td>456.0</td>\n",
       "      <td>model4</td>\n",
       "      <td>3.0</td>\n",
       "      <td>(0.0, 1.0, 0.0)</td>\n",
       "      <td>0.0</td>\n",
       "      <td>0.0</td>\n",
       "    </tr>\n",
       "    <tr>\n",
       "      <th>7</th>\n",
       "      <td>2015-12-28 19:00:00</td>\n",
       "      <td>172.529971</td>\n",
       "      <td>446.801518</td>\n",
       "      <td>101.580424</td>\n",
       "      <td>38.327966</td>\n",
       "      <td>172.737011</td>\n",
       "      <td>443.114257</td>\n",
       "      <td>99.159233</td>\n",
       "      <td>38.946824</td>\n",
       "      <td>171.416655</td>\n",
       "      <td>...</td>\n",
       "      <td>0.0</td>\n",
       "      <td>575.0</td>\n",
       "      <td>530.0</td>\n",
       "      <td>470.0</td>\n",
       "      <td>455.0</td>\n",
       "      <td>model4</td>\n",
       "      <td>3.0</td>\n",
       "      <td>(0.0, 1.0, 0.0)</td>\n",
       "      <td>0.0</td>\n",
       "      <td>0.0</td>\n",
       "    </tr>\n",
       "    <tr>\n",
       "      <th>8</th>\n",
       "      <td>2015-12-28 07:00:00</td>\n",
       "      <td>172.944052</td>\n",
       "      <td>439.426996</td>\n",
       "      <td>96.738042</td>\n",
       "      <td>39.565681</td>\n",
       "      <td>170.859997</td>\n",
       "      <td>444.430674</td>\n",
       "      <td>99.034004</td>\n",
       "      <td>39.874349</td>\n",
       "      <td>172.384220</td>\n",
       "      <td>...</td>\n",
       "      <td>0.0</td>\n",
       "      <td>575.0</td>\n",
       "      <td>530.0</td>\n",
       "      <td>470.0</td>\n",
       "      <td>455.0</td>\n",
       "      <td>model4</td>\n",
       "      <td>3.0</td>\n",
       "      <td>(0.0, 1.0, 0.0)</td>\n",
       "      <td>0.0</td>\n",
       "      <td>0.0</td>\n",
       "    </tr>\n",
       "    <tr>\n",
       "      <th>9</th>\n",
       "      <td>2015-12-27 19:00:00</td>\n",
       "      <td>168.775941</td>\n",
       "      <td>449.434352</td>\n",
       "      <td>101.329965</td>\n",
       "      <td>40.183016</td>\n",
       "      <td>172.104304</td>\n",
       "      <td>444.571586</td>\n",
       "      <td>98.413556</td>\n",
       "      <td>39.550401</td>\n",
       "      <td>170.807337</td>\n",
       "      <td>...</td>\n",
       "      <td>0.0</td>\n",
       "      <td>574.0</td>\n",
       "      <td>529.0</td>\n",
       "      <td>469.0</td>\n",
       "      <td>454.0</td>\n",
       "      <td>model4</td>\n",
       "      <td>3.0</td>\n",
       "      <td>(0.0, 1.0, 0.0)</td>\n",
       "      <td>0.0</td>\n",
       "      <td>0.0</td>\n",
       "    </tr>\n",
       "  </tbody>\n",
       "</table>\n",
       "<p>10 rows × 40 columns</p>\n",
       "</div>"
      ],
      "text/plain": [
       "         dt_truncated  volt_rollingmean_12  rotate_rollingmean_12  \\\n",
       "0 2016-01-01 07:00:00           172.083928             453.576897   \n",
       "1 2015-12-31 19:00:00           168.173348             453.181951   \n",
       "2 2015-12-31 07:00:00           163.401030             446.502286   \n",
       "3 2015-12-30 19:00:00           166.997919             443.574402   \n",
       "4 2015-12-30 07:00:00           176.588502             457.339327   \n",
       "5 2015-12-29 19:00:00           173.671822             475.627863   \n",
       "6 2015-12-29 07:00:00           174.482749             453.734636   \n",
       "7 2015-12-28 19:00:00           172.529971             446.801518   \n",
       "8 2015-12-28 07:00:00           172.944052             439.426996   \n",
       "9 2015-12-27 19:00:00           168.775941             449.434352   \n",
       "\n",
       "   pressure_rollingmean_12  vibration_rollingmean_12  volt_rollingmean_24  \\\n",
       "0               101.303110                 40.627410           169.230878   \n",
       "1                99.527531                 40.981132           165.787189   \n",
       "2               101.670084                 42.602762           165.199475   \n",
       "3               100.479550                 40.842664           171.793211   \n",
       "4               101.431647                 39.994342           175.130162   \n",
       "5                97.505602                 41.846282           174.077285   \n",
       "6               102.199989                 41.193909           173.506360   \n",
       "7               101.580424                 38.327966           172.737011   \n",
       "8                96.738042                 39.565681           170.859997   \n",
       "9               101.329965                 40.183016           172.104304   \n",
       "\n",
       "   rotate_rollingmean_24  pressure_rollingmean_24  vibration_rollingmean_24  \\\n",
       "0             451.007306               100.487259                 40.839262   \n",
       "1             449.842118               100.598808                 41.791947   \n",
       "2             445.038344               101.074817                 41.722713   \n",
       "3             450.456864               100.955598                 40.418503   \n",
       "4             466.483595                99.468624                 40.920312   \n",
       "5             464.681249                99.852795                 41.520096   \n",
       "6             450.268077               101.890206                 39.760938   \n",
       "7             443.114257                99.159233                 38.946824   \n",
       "8             444.430674                99.034004                 39.874349   \n",
       "9             444.571586                98.413556                 39.550401   \n",
       "\n",
       "   volt_rollingmean_36  ...  error5sum_rollingmean_24  comp1sum  comp2sum  \\\n",
       "0           167.339602  ...                       0.0     579.0     534.0   \n",
       "1           166.190766  ...                       0.0     578.0     533.0   \n",
       "2           168.995817  ...                       0.0     578.0     533.0   \n",
       "3           172.419415  ...                       0.0     577.0     532.0   \n",
       "4           174.914358  ...                       0.0     577.0     532.0   \n",
       "5           173.561514  ...                       0.0     576.0     531.0   \n",
       "6           173.318924  ...                       0.0     576.0     531.0   \n",
       "7           171.416655  ...                       0.0     575.0     530.0   \n",
       "8           172.384220  ...                       0.0     575.0     530.0   \n",
       "9           170.807337  ...                       0.0     574.0     529.0   \n",
       "\n",
       "   comp3sum  comp4sum   model  age    model_encoded  failure  label  \n",
       "0     474.0     459.0  model4  3.0  (0.0, 1.0, 0.0)      0.0    0.0  \n",
       "1     473.0     458.0  model4  3.0  (0.0, 1.0, 0.0)      0.0    0.0  \n",
       "2     473.0     458.0  model4  3.0  (0.0, 1.0, 0.0)      0.0    0.0  \n",
       "3     472.0     457.0  model4  3.0  (0.0, 1.0, 0.0)      0.0    0.0  \n",
       "4     472.0     457.0  model4  3.0  (0.0, 1.0, 0.0)      0.0    0.0  \n",
       "5     471.0     456.0  model4  3.0  (0.0, 1.0, 0.0)      0.0    0.0  \n",
       "6     471.0     456.0  model4  3.0  (0.0, 1.0, 0.0)      0.0    0.0  \n",
       "7     470.0     455.0  model4  3.0  (0.0, 1.0, 0.0)      0.0    0.0  \n",
       "8     470.0     455.0  model4  3.0  (0.0, 1.0, 0.0)      0.0    0.0  \n",
       "9     469.0     454.0  model4  3.0  (0.0, 1.0, 0.0)      0.0    0.0  \n",
       "\n",
       "[10 rows x 40 columns]"
      ]
     },
     "execution_count": 19,
     "metadata": {},
     "output_type": "execute_result"
    }
   ],
   "source": [
    "feat_data = spark.read.parquet('../data/labeled_features.parquet')\n",
    "feat_data = feat_data.withColumn(\"age\", feat_data.age.cast(DoubleType()))\n",
    "feat_data = feat_data.withColumnRenamed(\"label_e\", \"label\")\n",
    "\n",
    "print(feat_data.count())\n",
    "# highly imbalanced data\n",
    "label_count_pd = feat_data.groupby('label').count().toPandas()\n",
    "feat_data.limit(10).toPandas().head(10)"
   ]
  },
  {
   "cell_type": "markdown",
   "metadata": {},
   "source": [
    "As we can see, the data is very imbalanced."
   ]
  },
  {
   "cell_type": "code",
   "execution_count": 20,
   "metadata": {},
   "outputs": [
    {
     "data": {
      "image/png": "[encoded data removed]",
      "text/plain": [
       "<Figure size 432x288 with 1 Axes>"
      ]
     },
     "metadata": {},
     "output_type": "display_data"
    }
   ],
   "source": [
    "sns.set_theme(style=\"whitegrid\")\n",
    "ax = sns.barplot(x=\"label\", y=\"count\", data=label_count_pd)"
   ]
  },
  {
   "cell_type": "code",
   "execution_count": 23,
   "metadata": {
    "colab": {
     "base_uri": "https://localhost:8080/"
    },
    "id": "_2dYRYi_NkVq",
    "outputId": "d11c88b7-7d20-4b14-8f77-3ae5e5db56f4"
   },
   "outputs": [
    {
     "data": {
      "text/plain": [
       "['volt_rollingmean_12',\n",
       " 'rotate_rollingmean_12',\n",
       " 'pressure_rollingmean_12',\n",
       " 'vibration_rollingmean_12',\n",
       " 'volt_rollingmean_24',\n",
       " 'rotate_rollingmean_24',\n",
       " 'pressure_rollingmean_24',\n",
       " 'vibration_rollingmean_24',\n",
       " 'volt_rollingmean_36',\n",
       " 'vibration_rollingmean_36',\n",
       " 'rotate_rollingmean_36',\n",
       " 'pressure_rollingmean_36',\n",
       " 'volt_rollingstd_12',\n",
       " 'rotate_rollingstd_12',\n",
       " 'pressure_rollingstd_12',\n",
       " 'vibration_rollingstd_12',\n",
       " 'volt_rollingstd_24',\n",
       " 'rotate_rollingstd_24',\n",
       " 'pressure_rollingstd_24',\n",
       " 'vibration_rollingstd_24',\n",
       " 'volt_rollingstd_36',\n",
       " 'rotate_rollingstd_36',\n",
       " 'pressure_rollingstd_36',\n",
       " 'vibration_rollingstd_36',\n",
       " 'error1sum_rollingmean_24',\n",
       " 'error2sum_rollingmean_24',\n",
       " 'error3sum_rollingmean_24',\n",
       " 'error4sum_rollingmean_24',\n",
       " 'error5sum_rollingmean_24',\n",
       " 'comp1sum',\n",
       " 'comp2sum',\n",
       " 'comp3sum',\n",
       " 'comp4sum',\n",
       " 'age']"
      ]
     },
     "execution_count": 23,
     "metadata": {},
     "output_type": "execute_result"
    }
   ],
   "source": [
    "label_var = ['label']\n",
    "key_cols =['machineID','dt_truncated']\n",
    "input_features = feat_data.columns\n",
    "remove_cols = label_var + key_cols + ['failure','model_encoded','model' ]\n",
    "\n",
    "# Remove the extra names if that are in the input_features list\n",
    "input_features = [x for x in input_features if x not in set(remove_cols)]\n",
    "# Use cols\n",
    "input_features"
   ]
  },
  {
   "cell_type": "code",
   "execution_count": 24,
   "metadata": {
    "colab": {
     "base_uri": "https://localhost:8080/"
    },
    "id": "rXVkfhnWNkVr",
    "outputId": "a0414032-d559-44f9-afd7-8242a931b13b"
   },
   "outputs": [
    {
     "name": "stdout",
     "output_type": "stream",
     "text": [
      "15894\n",
      "12708\n"
     ]
    }
   ],
   "source": [
    "# assemble features\n",
    "va = VectorAssembler(inputCols=(input_features), outputCol='features')\n",
    "feat_data = va.transform(feat_data).select('machineID','dt_truncated','label','features')\n",
    "\n",
    "# set maxCategories so features with > 10 distinct values are treated as continuous.\n",
    "featureIndexer = VectorIndexer(inputCol=\"features\", \n",
    "                               outputCol=\"indexedFeatures\", \n",
    "                               maxCategories=10).fit(feat_data)\n",
    "\n",
    "# fit on whole dataset to include all labels in index\n",
    "labelIndexer = StringIndexer(inputCol=\"label\", outputCol=\"indexedLabel\").fit(feat_data)\n",
    "\n",
    "# split the data into train/test based on date\n",
    "split_date = \"2015-10-30\"\n",
    "training = feat_data.filter(feat_data.dt_truncated < split_date)\n",
    "testing = feat_data.filter(feat_data.dt_truncated >= split_date)\n",
    "\n",
    "# Undersampling\n",
    "training = training.sampleBy('label', fractions={0: 0.2, 1: 1.0, 2: 1.0, 3: 1.0, 4: 1.0}, seed=0)\n",
    "\n",
    "print(training.count())\n",
    "print(testing.count())"
   ]
  },
  {
   "cell_type": "code",
   "execution_count": 25,
   "metadata": {
    "colab": {
     "base_uri": "https://localhost:8080/"
    },
    "id": "i1Qku1-JNkVs",
    "outputId": "a6652ae9-a034-4f5c-8fc2-e0b7be2b3cf3",
    "scrolled": true
   },
   "outputs": [
    {
     "name": "stdout",
     "output_type": "stream",
     "text": [
      "+-----+-----+\n",
      "|label|count|\n",
      "+-----+-----+\n",
      "|  0.0|67470|\n",
      "|  1.0| 1337|\n",
      "|  4.0| 1473|\n",
      "|  3.0| 1000|\n",
      "|  2.0| 1862|\n",
      "+-----+-----+\n",
      "\n"
     ]
    }
   ],
   "source": [
    "## show the distribution of label \"0\" and \"1\"\n",
    "feat_data.groupby('label').count().show()"
   ]
  },
  {
   "cell_type": "code",
   "execution_count": 26,
   "metadata": {
    "colab": {
     "base_uri": "https://localhost:8080/"
    },
    "id": "Y-xk2dB7NkVt",
    "outputId": "1fbc90a6-2182-48ea-afe8-40ccd526de4d"
   },
   "outputs": [
    {
     "name": "stdout",
     "output_type": "stream",
     "text": [
      "+------------+----------+-----+\n",
      "|indexedLabel|prediction|count|\n",
      "+------------+----------+-----+\n",
      "|         2.0|       0.0|  124|\n",
      "|         1.0|       1.0|  129|\n",
      "|         0.0|       1.0|   31|\n",
      "|         0.0|       4.0|    4|\n",
      "|         1.0|       0.0|  197|\n",
      "|         2.0|       2.0|   90|\n",
      "|         2.0|       3.0|    2|\n",
      "|         4.0|       4.0|   50|\n",
      "|         2.0|       4.0|    1|\n",
      "|         1.0|       2.0|    1|\n",
      "|         0.0|       0.0|11735|\n",
      "|         4.0|       3.0|    1|\n",
      "|         0.0|       2.0|   14|\n",
      "|         4.0|       0.0|  105|\n",
      "|         3.0|       3.0|   75|\n",
      "|         0.0|       3.0|    6|\n",
      "|         3.0|       0.0|  135|\n",
      "|         4.0|       1.0|    8|\n",
      "+------------+----------+-----+\n",
      "\n"
     ]
    }
   ],
   "source": [
    "# Train a RandomForest model.\n",
    "rf = RandomForestClassifier(labelCol=\"indexedLabel\", featuresCol=\"indexedFeatures\", numTrees=100)\n",
    "\n",
    "# Chain indexers and forest in a Pipeline\n",
    "pipeline_rf = Pipeline(stages=[labelIndexer, featureIndexer, rf])\n",
    "\n",
    "# Train model.  This also runs the indexers.\n",
    "model_rf = pipeline_rf.fit(training)\n",
    "\n",
    "# Save model\n",
    "datestamp = str(datetime.datetime.now());\n",
    "rf_fileName = \"RandomForest_\" + datestamp;\n",
    "rfDirfilename = '../models/' + rf_fileName;\n",
    "model_rf.save(rfDirfilename)\n",
    "\n",
    "# Make predictions.\n",
    "predictions_rf = model_rf.transform(testing)\n",
    "predictions_rf.groupby('indexedLabel', 'prediction').count().show()"
   ]
  },
  {
   "cell_type": "code",
   "execution_count": 45,
   "metadata": {},
   "outputs": [],
   "source": [
    "cm = confusion_matrix(predictions_rf.select('indexedLabel').collect(), predictions_rf.select('prediction').collect())"
   ]
  },
  {
   "cell_type": "code",
   "execution_count": 51,
   "metadata": {},
   "outputs": [
    {
     "data": {
      "text/plain": [
       "array([[11735,    31,    14,     6,     4],\n",
       "       [  197,   129,     1,     0,     0],\n",
       "       [  124,     0,    90,     2,     1],\n",
       "       [  135,     0,     0,    75,     0],\n",
       "       [  105,     8,     0,     1,    50]])"
      ]
     },
     "execution_count": 51,
     "metadata": {},
     "output_type": "execute_result"
    }
   ],
   "source": [
    "cm"
   ]
  },
  {
   "cell_type": "code",
   "execution_count": 50,
   "metadata": {},
   "outputs": [
    {
     "data": {
      "image/png": "[encoded data removed]",
      "text/plain": [
       "<Figure size 432x288 with 2 Axes>"
      ]
     },
     "metadata": {},
     "output_type": "display_data"
    }
   ],
   "source": [
    "f = sns.heatmap(cm, cmap=\"YlGnBu\")"
   ]
  },
  {
   "cell_type": "code",
   "execution_count": 97,
   "metadata": {
    "colab": {
     "base_uri": "https://localhost:8080/"
    },
    "id": "hOdxmYRTNkVv",
    "outputId": "2bfc4319-65da-4444-c1dc-26bbf6450adf"
   },
   "outputs": [
    {
     "data": {
      "text/plain": [
       "[('machineID', 'string'),\n",
       " ('dt_truncated', 'timestamp'),\n",
       " ('label', 'double'),\n",
       " ('features', 'vector'),\n",
       " ('indexedLabel', 'double'),\n",
       " ('indexedFeatures', 'vector'),\n",
       " ('rawPrediction', 'vector'),\n",
       " ('probability', 'vector'),\n",
       " ('prediction', 'double')]"
      ]
     },
     "execution_count": 97,
     "metadata": {
      "tags": []
     },
     "output_type": "execute_result"
    }
   ],
   "source": [
    "predictions_rf.dtypes"
   ]
  },
  {
   "cell_type": "code",
   "execution_count": 98,
   "metadata": {
    "colab": {
     "base_uri": "https://localhost:8080/"
    },
    "id": "NycSvLE_NkVv",
    "outputId": "d0c3cd67-1384-4b99-e1a6-5965cef25b13"
   },
   "outputs": [
    {
     "name": "stdout",
     "output_type": "stream",
     "text": [
      "+---------+-------------------+-----+--------------------+------------+--------------------+--------------------+--------------------+----------+\n",
      "|machineID|       dt_truncated|label|            features|indexedLabel|     indexedFeatures|       rawPrediction|         probability|prediction|\n",
      "+---------+-------------------+-----+--------------------+------------+--------------------+--------------------+--------------------+----------+\n",
      "|       60|2016-01-01 12:00:00|  0.0|[172.083928289341...|         0.0|[172.083928289341...|[81.8770230052474...|[0.81877023005247...|       0.0|\n",
      "|       60|2016-01-01 00:00:00|  0.0|[168.173348120365...|         0.0|[168.173348120365...|[81.7363543709698...|[0.81736354370969...|       0.0|\n",
      "|       60|2015-12-31 12:00:00|  0.0|[163.401030380918...|         0.0|[163.401030380918...|[81.7644393510118...|[0.81764439351011...|       0.0|\n",
      "|       60|2015-12-31 00:00:00|  0.0|[166.997919179742...|         0.0|[166.997919179742...|[81.8770230052474...|[0.81877023005247...|       0.0|\n",
      "|       60|2015-12-30 12:00:00|  0.0|[176.588502266096...|         0.0|[176.588502266096...|[81.3405473619846...|[0.81340547361984...|       0.0|\n",
      "|       60|2015-12-30 00:00:00|  0.0|[173.671822150448...|         0.0|[173.671822150448...|[81.8389412798009...|[0.81838941279800...|       0.0|\n",
      "|       60|2015-12-29 12:00:00|  0.0|[174.482748810227...|         0.0|[174.482748810227...|[81.7363543709698...|[0.81736354370969...|       0.0|\n",
      "|       60|2015-12-29 00:00:00|  0.0|[172.529970665180...|         0.0|[172.529970665180...|[81.8770230052474...|[0.81877023005247...|       0.0|\n",
      "|       60|2015-12-28 12:00:00|  0.0|[172.944052060229...|         0.0|[172.944052060229...|[81.8770230052474...|[0.81877023005247...|       0.0|\n",
      "|       60|2015-12-28 00:00:00|  0.0|[168.775940944870...|         0.0|[168.775940944870...|[81.6725255152372...|[0.81672525515237...|       0.0|\n",
      "|       60|2015-12-27 12:00:00|  0.0|[175.432666245237...|         0.0|[175.432666245237...|[81.7363543709698...|[0.81736354370969...|       0.0|\n",
      "|       60|2015-12-27 00:00:00|  0.0|[168.213403880292...|         0.0|[168.213403880292...|[81.8770230052474...|[0.81877023005247...|       0.0|\n",
      "|       60|2015-12-26 12:00:00|  0.0|[168.621025255890...|         0.0|[168.621025255890...|[81.7328325325964...|[0.81732832532596...|       0.0|\n",
      "|       60|2015-12-26 00:00:00|  0.0|[167.822212254562...|         0.0|[167.822212254562...|[81.8770230052474...|[0.81877023005247...|       0.0|\n",
      "|       60|2015-12-25 12:00:00|  0.0|[165.599882105372...|         0.0|[165.599882105372...|[81.8389412798009...|[0.81838941279800...|       0.0|\n",
      "|       60|2015-12-25 00:00:00|  0.0|[168.773339266242...|         0.0|[168.773339266242...|[81.7709142580428...|[0.81770914258042...|       0.0|\n",
      "|       60|2015-12-24 12:00:00|  0.0|[168.016158162869...|         0.0|[168.016158162869...|[81.729281936651,...|[0.81729281936651...|       0.0|\n",
      "|       60|2015-12-24 00:00:00|  0.0|[168.574134826518...|         0.0|[168.574134826518...|[81.8770230052474...|[0.81877023005247...|       0.0|\n",
      "|       60|2015-12-23 12:00:00|  0.0|[176.286709102825...|         0.0|[176.286709102825...|[81.6932556774206...|[0.81693255677420...|       0.0|\n",
      "|       60|2015-12-23 00:00:00|  0.0|[170.232947551593...|         0.0|[170.232947551593...|[81.8389412798009...|[0.81838941279800...|       0.0|\n",
      "+---------+-------------------+-----+--------------------+------------+--------------------+--------------------+--------------------+----------+\n",
      "only showing top 20 rows\n",
      "\n"
     ]
    }
   ],
   "source": [
    "predictions_rf.show()"
   ]
  },
  {
   "cell_type": "code",
   "execution_count": 99,
   "metadata": {
    "colab": {
     "base_uri": "https://localhost:8080/",
     "height": 469
    },
    "id": "WyJ_TF10NkVw",
    "outputId": "b04cb4a1-65cd-4301-80dd-8fbaf92a9295"
   },
   "outputs": [
    {
     "name": "stdout",
     "output_type": "stream",
     "text": [
      "Area under ROC = 0.916055\n",
      "Area under PR = 0.331882\n",
      "\n",
      "Accuracy = 0.950422\n",
      "Weighted Precision = 0.947038\n",
      "Weighted Recall = 0.950422\n",
      "F1 = 0.940725\n"
     ]
    },
    {
     "data": {
      "image/png": "[encoded data removed]",
      "text/plain": [
       "<Figure size 360x360 with 1 Axes>"
      ]
     },
     "metadata": {
      "needs_background": "light",
      "tags": []
     },
     "output_type": "display_data"
    }
   ],
   "source": [
    "predictionAndLabels = predictions_rf.select(\"indexedLabel\", \"prediction\").rdd\n",
    "metrics = BinaryClassificationMetrics(predictionAndLabels)\n",
    "print(\"Area under ROC = %g\" % metrics.areaUnderROC)\n",
    "print(\"Area under PR = %g\\n\" % metrics.areaUnderPR)\n",
    "\n",
    "# Select (prediction, true label) and compute test error\n",
    "evaluator = MulticlassClassificationEvaluator(labelCol=\"indexedLabel\", predictionCol=\"prediction\")\n",
    "print(\"Accuracy = %g\" % evaluator.evaluate(predictions_rf, {evaluator.metricName: \"accuracy\"}))\n",
    "print(\"Weighted Precision = %g\" % evaluator.evaluate(predictions_rf, {evaluator.metricName: \"weightedPrecision\"}))\n",
    "print(\"Weighted Recall = %g\" % evaluator.evaluate(predictions_rf, {evaluator.metricName: \"weightedRecall\"}))\n",
    "print(\"F1 = %g\" % evaluator.evaluate(predictions_rf, {evaluator.metricName: \"f1\"}))\n",
    "\n",
    "# PLOT ROC curve after converting predictions to a Pandas dataframe\n",
    "%matplotlib inline\n",
    "predictions_rf_pddf = predictions_rf.select('indexedLabel','probability').toPandas()\n",
    "labels = predictions_rf_pddf[\"indexedLabel\"]\n",
    "prob = []\n",
    "for dv in predictions_rf_pddf[\"probability\"]:\n",
    "    prob.append(dv.values[1])\n",
    "     \n",
    "fpr, tpr, thresholds = roc_curve(labels, prob, pos_label=1.0);\n",
    "roc_auc = auc(fpr, tpr)\n",
    "\n",
    "plt.figure(figsize=(5, 5))\n",
    "plt.plot(fpr, tpr, label='ROC curve (area = %0.2f)' % roc_auc)\n",
    "plt.plot([0, 1], [0, 1], 'k--')\n",
    "plt.xlim([0.0, 1.0])\n",
    "plt.ylim([0.0, 1.05])\n",
    "plt.xlabel('False Positive Rate')\n",
    "plt.ylabel('True Positive Rate')\n",
    "plt.title('ROC Curve')\n",
    "plt.legend(loc=\"lower right\")\n",
    "plt.show()"
   ]
  },
  {
   "cell_type": "code",
   "execution_count": 100,
   "metadata": {
    "colab": {
     "base_uri": "https://localhost:8080/"
    },
    "id": "1jIBdLMKNkVz",
    "outputId": "81581d48-907e-4aa5-a3e7-8323f8c35721"
   },
   "outputs": [
    {
     "name": "stdout",
     "output_type": "stream",
     "text": [
      "precision: [0.9533516  0.80503145 0.86538462 0.90361446 0.94      ]\n",
      "recall: [0.99604377 0.3902439  0.40723982 0.35377358 0.28143713]\n",
      "fscore: [0.9742302  0.52566735 0.55384615 0.50847458 0.43317972]\n",
      "support: [11880   328   221   212   167]\n"
     ]
    }
   ],
   "source": [
    "# Use sklearn\n",
    "rf_result = predictions_rf.select('indexedLabel', 'prediction').toPandas()\n",
    "\n",
    "rf_label = rf_result['indexedLabel'].tolist()\n",
    "rf_prediction = rf_result['prediction'].tolist()\n",
    "\n",
    "precision, recall, fscore, support = score(rf_label, rf_prediction)\n",
    "\n",
    "print('precision: {}'.format(precision))\n",
    "print('recall: {}'.format(recall))\n",
    "print('fscore: {}'.format(fscore))\n",
    "print('support: {}'.format(support))"
   ]
  },
  {
   "cell_type": "code",
   "execution_count": 101,
   "metadata": {
    "id": "RfrXZjjiNkV0"
   },
   "outputs": [],
   "source": [
    "# Train a RandomForest model.\n",
    "rf = RandomForestClassifier(labelCol=\"indexedLabel\", featuresCol=\"indexedFeatures\", \n",
    "                            featureSubsetStrategy=\"auto\", impurity=\"gini\", seed=123)\n",
    "\n",
    "# Chain indexers and forest in a Pipeline\n",
    "pipeline_rf = Pipeline(stages=[labelIndexer, featureIndexer, rf])\n",
    "\n",
    "\n",
    "## Define parameter grid\n",
    "paramGrid = ParamGridBuilder() \\\n",
    "    .addGrid(rf.numTrees, [20, 50, 100]) \\\n",
    "    .addGrid(rf.maxBins, [10, 20]) \\\n",
    "    .addGrid(rf.maxDepth, [3, 5, 7]) \\\n",
    "    .addGrid(rf.minInstancesPerNode, [1, 5, 10]) \\\n",
    "    .build()\n",
    "\n",
    "## Define cross-validation\n",
    "crossval = CrossValidator(estimator=pipeline_rf,\n",
    "                          estimatorParamMaps=paramGrid,\n",
    "                          evaluator=MulticlassClassificationEvaluator(metricName=\"weightedPrecision\"),\n",
    "                          numFolds=3)\n",
    "\n",
    "## Train model using CV\n",
    "cvModel = crossval.fit(training)"
   ]
  },
  {
   "cell_type": "code",
   "execution_count": 102,
   "metadata": {
    "id": "MDw1T_XSaeTa"
   },
   "outputs": [],
   "source": [
    "datestamp = str(datetime.datetime.now());\n",
    "rf_fileName = \"CV_RandomForestClassificationModel\";\n",
    "rfDirfilename = '../models/' + rf_fileName;\n",
    "cvModel.bestModel.save(rfDirfilename)"
   ]
  },
  {
   "cell_type": "code",
   "execution_count": 103,
   "metadata": {
    "colab": {
     "base_uri": "https://localhost:8080/"
    },
    "id": "FROM5fwDZO71",
    "outputId": "576f01d7-964c-4906-ca7b-bbf02a7326fe"
   },
   "outputs": [
    {
     "name": "stdout",
     "output_type": "stream",
     "text": [
      "weightedPrecision on test data = 0.948869\n"
     ]
    }
   ],
   "source": [
    "## Predict and evaluate\n",
    "predictions = cvModel.transform(testing)\n",
    "evaluator = MulticlassClassificationEvaluator(labelCol=\"indexedLabel\", predictionCol=\"prediction\", metricName=\"weightedPrecision\")\n",
    "r2 = evaluator.evaluate(predictions)\n",
    "print(\"weightedPrecision on test data = %g\" % r2)"
   ]
  },
  {
   "cell_type": "code",
   "execution_count": 104,
   "metadata": {
    "colab": {
     "base_uri": "https://localhost:8080/"
    },
    "id": "6C9VSHSzNkV1",
    "outputId": "7c1f1286-83dc-4fd8-ca0e-44b512abf38d"
   },
   "outputs": [
    {
     "name": "stdout",
     "output_type": "stream",
     "text": [
      "+------------+----------+-----+\n",
      "|indexedLabel|prediction|count|\n",
      "+------------+----------+-----+\n",
      "|         2.0|       0.0|  130|\n",
      "|         1.0|       1.0|  128|\n",
      "|         4.0|       2.0|    1|\n",
      "|         0.0|       1.0|   22|\n",
      "|         0.0|       4.0|    7|\n",
      "|         1.0|       0.0|  200|\n",
      "|         2.0|       2.0|   90|\n",
      "|         2.0|       3.0|    1|\n",
      "|         4.0|       4.0|   60|\n",
      "|         0.0|       0.0|11841|\n",
      "|         4.0|       3.0|    2|\n",
      "|         0.0|       2.0|    4|\n",
      "|         4.0|       0.0|   97|\n",
      "|         3.0|       3.0|   73|\n",
      "|         0.0|       3.0|    6|\n",
      "|         3.0|       0.0|  139|\n",
      "|         4.0|       1.0|    7|\n",
      "+------------+----------+-----+\n",
      "\n"
     ]
    }
   ],
   "source": [
    "# Make predictions.\n",
    "predictions_rf = cvModel.bestModel.transform(testing)\n",
    "predictions_rf.groupby('indexedLabel', 'prediction').count().show()"
   ]
  },
  {
   "cell_type": "code",
   "execution_count": 46,
   "metadata": {
    "colab": {
     "base_uri": "https://localhost:8080/"
    },
    "id": "aOMuy4RxTQFB",
    "outputId": "ca8f2342-5042-4dde-bcbb-678cf27394ae"
   },
   "outputs": [
    {
     "name": "stdout",
     "output_type": "stream",
     "text": [
      "Best MaxDepth:  7\n",
      "Best MaxBins:  20\n",
      "Best NumTrees:  100\n",
      "Best MinInstancesPerNode:  1\n"
     ]
    }
   ],
   "source": [
    "print(\"Best MaxDepth: \",cvModel.bestModel.stages[-1]._java_obj.getMaxDepth())\n",
    "print(\"Best MaxBins: \",cvModel.bestModel.stages[-1]._java_obj.getMaxBins())\n",
    "print(\"Best NumTrees: \",cvModel.bestModel.stages[-1]._java_obj.getNumTrees())\n",
    "print(\"Best MinInstancesPerNode: \",cvModel.bestModel.stages[-1]._java_obj.getMinInstancesPerNode())\n"
   ]
  },
  {
   "cell_type": "code",
   "execution_count": 105,
   "metadata": {
    "colab": {
     "base_uri": "https://localhost:8080/",
     "height": 469
    },
    "id": "S6OGCbMhWhTT",
    "outputId": "2358af33-dc2a-4e0a-df18-9798daf32121"
   },
   "outputs": [
    {
     "name": "stdout",
     "output_type": "stream",
     "text": [
      "Area under ROC = 0.928533\n",
      "Area under PR = 0.377725\n",
      "\n",
      "Accuracy = 0.951905\n",
      "Weighted Precision = 0.948869\n",
      "Weighted Recall = 0.951905\n",
      "F1 = 0.942692\n"
     ]
    },
    {
     "data": {
      "image/png": "[encoded data removed]",
      "text/plain": [
       "<Figure size 360x360 with 1 Axes>"
      ]
     },
     "metadata": {
      "needs_background": "light",
      "tags": []
     },
     "output_type": "display_data"
    }
   ],
   "source": [
    "predictionAndLabels = predictions_rf.select(\"indexedLabel\", \"prediction\").rdd\n",
    "metrics = BinaryClassificationMetrics(predictionAndLabels)\n",
    "print(\"Area under ROC = %g\" % metrics.areaUnderROC)\n",
    "print(\"Area under PR = %g\\n\" % metrics.areaUnderPR)\n",
    "\n",
    "# Select (prediction, true label) and compute test error\n",
    "evaluator = MulticlassClassificationEvaluator(labelCol=\"indexedLabel\", predictionCol=\"prediction\")\n",
    "print(\"Accuracy = %g\" % evaluator.evaluate(predictions_rf, {evaluator.metricName: \"accuracy\"}))\n",
    "print(\"Weighted Precision = %g\" % evaluator.evaluate(predictions_rf, {evaluator.metricName: \"weightedPrecision\"}))\n",
    "print(\"Weighted Recall = %g\" % evaluator.evaluate(predictions_rf, {evaluator.metricName: \"weightedRecall\"}))\n",
    "print(\"F1 = %g\" % evaluator.evaluate(predictions_rf, {evaluator.metricName: \"f1\"}))\n",
    "\n",
    "# PLOT ROC curve after converting predictions to a Pandas dataframe\n",
    "%matplotlib inline\n",
    "predictions_rf_pddf = predictions_rf.select('indexedLabel','probability').toPandas()\n",
    "labels = predictions_rf_pddf[\"indexedLabel\"]\n",
    "prob = []\n",
    "for dv in predictions_rf_pddf[\"probability\"]:\n",
    "    prob.append(dv.values[1])\n",
    "     \n",
    "fpr, tpr, thresholds = roc_curve(labels, prob, pos_label=1.0);\n",
    "roc_auc = auc(fpr, tpr)\n",
    "\n",
    "plt.figure(figsize=(5, 5))\n",
    "plt.plot(fpr, tpr, label='ROC curve (area = %0.2f)' % roc_auc)\n",
    "plt.plot([0, 1], [0, 1], 'k--')\n",
    "plt.xlim([0.0, 1.0])\n",
    "plt.ylim([0.0, 1.05])\n",
    "plt.xlabel('False Positive Rate')\n",
    "plt.ylabel('True Positive Rate')\n",
    "plt.title('ROC Curve')\n",
    "plt.legend(loc=\"lower right\")\n",
    "plt.show()"
   ]
  },
  {
   "cell_type": "code",
   "execution_count": 28,
   "metadata": {
    "id": "d1qqd-O9brZ5"
   },
   "outputs": [],
   "source": [
    "# loaded_model = PipelineModel.load(\"../models/CV_RandomForestClassificationModel/\")"
   ]
  },
  {
   "cell_type": "code",
   "execution_count": 39,
   "metadata": {
    "colab": {
     "base_uri": "https://localhost:8080/"
    },
    "id": "7-_n9EXXb7Yi",
    "outputId": "5d8af531-b959-4121-fa95-c7ab16189565"
   },
   "outputs": [],
   "source": [
    "## Predict and evaluate\n",
    "# predictions = model_rf.transform(testing)\n",
    "# evaluator = MulticlassClassificationEvaluator(labelCol=\"indexedLabel\", predictionCol=\"prediction\", metricName=\"weightedPrecision\")\n",
    "# r2 = evaluator.evaluate(predictions)\n",
    "# print(\"weightedPrecision on test data = %g\" % r2)"
   ]
  },
  {
   "cell_type": "markdown",
   "metadata": {},
   "source": [
    "Let's have a look at the most important discriminating features to the Random Forest."
   ]
  },
  {
   "cell_type": "code",
   "execution_count": 40,
   "metadata": {},
   "outputs": [],
   "source": [
    "def plot_feature_importance(importance, names, model_type):\n",
    "\n",
    "    #Create arrays from feature importance and feature names\n",
    "    feature_importance = np.array(importance)\n",
    "    feature_names = np.array(names)\n",
    "\n",
    "    #Create a DataFrame using a Dictionary\n",
    "    data={'feature_names':feature_names,'feature_importance':feature_importance}\n",
    "    fi_df = pd.DataFrame(data)\n",
    "\n",
    "    #Sort the DataFrame in order decreasing feature importance\n",
    "    fi_df.sort_values(by=['feature_importance'], ascending=False,inplace=True)\n",
    "\n",
    "    #Define size of bar plot\n",
    "    plt.figure(figsize=(10,8))\n",
    "    #Plot Searborn bar chart\n",
    "    sns.barplot(x=fi_df['feature_importance'], y=fi_df['feature_names'])\n",
    "    #Add chart labels\n",
    "    plt.title(model_type + 'FEATURE IMPORTANCE')\n",
    "    plt.xlabel('FEATURE IMPORTANCE')\n",
    "    plt.ylabel('FEATURE NAMES')"
   ]
  },
  {
   "cell_type": "code",
   "execution_count": 38,
   "metadata": {},
   "outputs": [
    {
     "data": {
      "image/png": "[encoded data removed]",
      "text/plain": [
       "<Figure size 720x576 with 1 Axes>"
      ]
     },
     "metadata": {},
     "output_type": "display_data"
    }
   ],
   "source": [
    "plot_feature_importance(model_rf.stages[-1].featureImportances, input_features,'RANDOM FOREST')"
   ]
  },
  {
   "cell_type": "markdown",
   "metadata": {},
   "source": [
    "Surprisingly, the age is less important that we thought. Top 3 features were: \n",
    "\n",
    "- rotate_rollingmean_12, \n",
    "- rotate_rollingmean_23 and \n",
    "- error5sum_rollingmean_24."
   ]
  }
 ],
 "metadata": {
  "accelerator": "GPU",
  "colab": {
   "collapsed_sections": [],
   "name": "Random Forest.ipynb",
   "provenance": []
  },
  "kernelspec": {
   "display_name": "Python 3",
   "language": "python",
   "name": "python3"
  },
  "language_info": {
   "codemirror_mode": {
    "name": "ipython",
    "version": 3
   },
   "file_extension": ".py",
   "mimetype": "text/x-python",
   "name": "python",
   "nbconvert_exporter": "python",
   "pygments_lexer": "ipython3",
   "version": "3.6.9"
  }
 },
 "nbformat": 4,
 "nbformat_minor": 1
}
