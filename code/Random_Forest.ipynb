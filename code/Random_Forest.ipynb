{
  "nbformat": 4,
  "nbformat_minor": 0,
  "metadata": {
    "kernelspec": {
      "display_name": "Python 3",
      "language": "python",
      "name": "python3"
    },
    "language_info": {
      "codemirror_mode": {
        "name": "ipython",
        "version": 3
      },
      "file_extension": ".py",
      "mimetype": "text/x-python",
      "name": "python",
      "nbconvert_exporter": "python",
      "pygments_lexer": "ipython3",
      "version": "3.6.9"
    },
    "colab": {
      "name": "Random Forest.ipynb",
      "provenance": [],
      "collapsed_sections": []
    },
    "accelerator": "GPU"
  },
  "cells": [
    {
      "cell_type": "markdown",
      "metadata": {
        "id": "uzgGp3exrZTd"
      },
      "source": [
        "## Random Forest Model\n",
        "\n",
        "Let's first start by loading the libraries we will be using."
      ]
    },
    {
      "cell_type": "code",
      "metadata": {
        "colab": {
          "base_uri": "https://localhost:8080/"
        },
        "id": "a3F9l483NkVh",
        "outputId": "d677411d-b97c-4383-90cb-8e108c4b9d8e"
      },
      "source": [
        "from google.colab import drive\n",
        "drive.mount('/content/drive')\n",
        "\n",
        "import os\n",
        "import sys\n",
        "import copy\n",
        "import time\n",
        "import random\n",
        "import pyspark\n",
        "import datetime\n",
        "import numpy as np\n",
        "import pandas as pd\n",
        "import matplotlib.pyplot as plt\n",
        "import seaborn as sns\n",
        "import pyspark.sql.functions as F\n",
        "from pyspark.sql import SparkSession\n",
        "from pyspark.sql.types import DoubleType, FloatType, IntegerType\n",
        "from pyspark.sql.functions import col, substring\n",
        "\n",
        "# for creating pipelines and model\n",
        "from pyspark.ml import Pipeline, PipelineModel\n",
        "from pyspark.ml.feature import StringIndexer, OneHotEncoder, VectorAssembler, VectorIndexer\n",
        "from pyspark.ml import Pipeline, PipelineModel\n",
        "from pyspark.ml.classification import RandomForestClassifier\n",
        "from pyspark.ml.classification import DecisionTreeClassifier\n",
        "from pyspark.ml.classification import GBTClassifier\n",
        "from pyspark.ml.evaluation import MulticlassClassificationEvaluator\n",
        "from pyspark.mllib.evaluation import BinaryClassificationMetrics\n",
        "from pyspark.ml.tuning import CrossValidator, ParamGridBuilder\n",
        "\n",
        "# sklearn\n",
        "from sklearn.metrics import precision_recall_fscore_support as score\n",
        "from sklearn.model_selection import RandomizedSearchCV\n",
        "from sklearn.model_selection import GridSearchCV\n",
        "from sklearn.model_selection import train_test_split\n",
        "from sklearn.metrics import roc_curve,auc\n",
        "from sklearn.model_selection import ParameterGrid\n",
        "from sklearn.metrics import confusion_matrix\n",
        "from sklearn.metrics import ConfusionMatrixDisplay"
      ],
      "execution_count": 1,
      "outputs": [
        {
          "output_type": "stream",
          "text": [
            "Drive already mounted at /content/drive; to attempt to forcibly remount, call drive.mount(\"/content/drive\", force_remount=True).\n"
          ],
          "name": "stdout"
        }
      ]
    },
    {
      "cell_type": "markdown",
      "metadata": {
        "id": "HMNQwd5crmV1"
      },
      "source": [
        "We initialize our spark session."
      ]
    },
    {
      "cell_type": "code",
      "metadata": {
        "id": "C6Xh6qvaNkVm"
      },
      "source": [
        "def init_spark():\n",
        "    spark = SparkSession \\\n",
        "        .builder \\\n",
        "        .appName(\"Predictive Maintenance\") \\\n",
        "        .config(\"spark.some.config.option\", \"some-value\") \\\n",
        "        .config(\"spark.executor.memory\", \"70g\")\\\n",
        "        .config(\"spark.driver.memory\", \"50g\")\\\n",
        "        .config(\"spark.memory.offHeap.enabled\", \"true\")\\\n",
        "        .config(\"spark.memory.offHeap.size\",\"30g\")\\\n",
        "        .getOrCreate()\n",
        "    return spark\n",
        "\n",
        "spark = init_spark()"
      ],
      "execution_count": 2,
      "outputs": []
    },
    {
      "cell_type": "markdown",
      "metadata": {
        "id": "CnHvWZzZrp1F"
      },
      "source": [
        "Let's then load the preprocessed data after feature engineering and labelling."
      ]
    },
    {
      "cell_type": "code",
      "metadata": {
        "colab": {
          "base_uri": "https://localhost:8080/",
          "height": 566
        },
        "id": "S3GTvVybNkVo",
        "outputId": "2261ca6b-64bd-4202-89c0-1529c5ee3e08"
      },
      "source": [
        "feat_data = spark.read.parquet('drive/My Drive/Soen471/data/labeled_features3.parquet')\n",
        "feat_data = feat_data.withColumn(\"age\", feat_data.age.cast(DoubleType()))\n",
        "feat_data = feat_data.withColumnRenamed(\"label_e\", \"label\")\n",
        "feat_data = feat_data.withColumn(\"model\", substring(\"model\", 6,1).cast(IntegerType()))\n",
        "\n",
        "print(feat_data.count())\n",
        "\n",
        "# highly imbalanced data\n",
        "label_count_pd = feat_data.groupby('label').count().toPandas()\n",
        "feat_data.limit(10).toPandas().head(10)"
      ],
      "execution_count": 3,
      "outputs": [
        {
          "output_type": "stream",
          "text": [
            "292142\n"
          ],
          "name": "stdout"
        },
        {
          "output_type": "execute_result",
          "data": {
            "text/html": [
              "<div>\n",
              "<style scoped>\n",
              "    .dataframe tbody tr th:only-of-type {\n",
              "        vertical-align: middle;\n",
              "    }\n",
              "\n",
              "    .dataframe tbody tr th {\n",
              "        vertical-align: top;\n",
              "    }\n",
              "\n",
              "    .dataframe thead th {\n",
              "        text-align: right;\n",
              "    }\n",
              "</style>\n",
              "<table border=\"1\" class=\"dataframe\">\n",
              "  <thead>\n",
              "    <tr style=\"text-align: right;\">\n",
              "      <th></th>\n",
              "      <th>dt_truncated</th>\n",
              "      <th>volt_rollingmean_3</th>\n",
              "      <th>rotate_rollingmean_3</th>\n",
              "      <th>pressure_rollingmean_3</th>\n",
              "      <th>vibration_rollingmean_3</th>\n",
              "      <th>volt_rollingmean_12</th>\n",
              "      <th>rotate_rollingmean_12</th>\n",
              "      <th>pressure_rollingmean_12</th>\n",
              "      <th>vibration_rollingmean_12</th>\n",
              "      <th>volt_rollingmean_24</th>\n",
              "      <th>vibration_rollingmean_24</th>\n",
              "      <th>rotate_rollingmean_24</th>\n",
              "      <th>pressure_rollingmean_24</th>\n",
              "      <th>volt_rollingstd_3</th>\n",
              "      <th>rotate_rollingstd_3</th>\n",
              "      <th>pressure_rollingstd_3</th>\n",
              "      <th>vibration_rollingstd_3</th>\n",
              "      <th>volt_rollingstd_12</th>\n",
              "      <th>rotate_rollingstd_12</th>\n",
              "      <th>pressure_rollingstd_12</th>\n",
              "      <th>vibration_rollingstd_12</th>\n",
              "      <th>volt_rollingstd_24</th>\n",
              "      <th>rotate_rollingstd_24</th>\n",
              "      <th>pressure_rollingstd_24</th>\n",
              "      <th>vibration_rollingstd_24</th>\n",
              "      <th>machineID</th>\n",
              "      <th>error1sum_rollingmean_12</th>\n",
              "      <th>error2sum_rollingmean_12</th>\n",
              "      <th>error3sum_rollingmean_12</th>\n",
              "      <th>error4sum_rollingmean_12</th>\n",
              "      <th>error5sum_rollingmean_12</th>\n",
              "      <th>comp1sum</th>\n",
              "      <th>comp2sum</th>\n",
              "      <th>comp3sum</th>\n",
              "      <th>comp4sum</th>\n",
              "      <th>model</th>\n",
              "      <th>age</th>\n",
              "      <th>model_encoded</th>\n",
              "      <th>failure</th>\n",
              "      <th>label</th>\n",
              "    </tr>\n",
              "  </thead>\n",
              "  <tbody>\n",
              "    <tr>\n",
              "      <th>0</th>\n",
              "      <td>2016-01-01 06:00:00</td>\n",
              "      <td>155.926136</td>\n",
              "      <td>508.873216</td>\n",
              "      <td>103.217517</td>\n",
              "      <td>44.404096</td>\n",
              "      <td>168.808851</td>\n",
              "      <td>459.669547</td>\n",
              "      <td>103.067957</td>\n",
              "      <td>41.409164</td>\n",
              "      <td>169.366028</td>\n",
              "      <td>40.959647</td>\n",
              "      <td>456.401347</td>\n",
              "      <td>100.910854</td>\n",
              "      <td>7.114671</td>\n",
              "      <td>11.243900</td>\n",
              "      <td>3.651186</td>\n",
              "      <td>2.553561</td>\n",
              "      <td>0.151602</td>\n",
              "      <td>2.056678</td>\n",
              "      <td>0.108284</td>\n",
              "      <td>0.091922</td>\n",
              "      <td>0.000394</td>\n",
              "      <td>0.670628</td>\n",
              "      <td>0.013556</td>\n",
              "      <td>0.129090</td>\n",
              "      <td>60</td>\n",
              "      <td>0.0</td>\n",
              "      <td>0.0</td>\n",
              "      <td>0.0</td>\n",
              "      <td>0.0</td>\n",
              "      <td>0.0</td>\n",
              "      <td>579.0</td>\n",
              "      <td>534.0</td>\n",
              "      <td>474.0</td>\n",
              "      <td>459.0</td>\n",
              "      <td>4</td>\n",
              "      <td>3.0</td>\n",
              "      <td>(0.0, 1.0, 0.0)</td>\n",
              "      <td>0.0</td>\n",
              "      <td>0.0</td>\n",
              "    </tr>\n",
              "    <tr>\n",
              "      <th>1</th>\n",
              "      <td>2016-01-01 03:00:00</td>\n",
              "      <td>177.241489</td>\n",
              "      <td>443.717507</td>\n",
              "      <td>103.011478</td>\n",
              "      <td>37.057737</td>\n",
              "      <td>174.314186</td>\n",
              "      <td>450.696569</td>\n",
              "      <td>100.441772</td>\n",
              "      <td>40.051142</td>\n",
              "      <td>169.556059</td>\n",
              "      <td>40.749908</td>\n",
              "      <td>448.792799</td>\n",
              "      <td>100.251277</td>\n",
              "      <td>5.164997</td>\n",
              "      <td>26.434283</td>\n",
              "      <td>4.392684</td>\n",
              "      <td>2.929363</td>\n",
              "      <td>0.781903</td>\n",
              "      <td>4.248563</td>\n",
              "      <td>0.511725</td>\n",
              "      <td>0.168612</td>\n",
              "      <td>0.507840</td>\n",
              "      <td>4.670183</td>\n",
              "      <td>0.298848</td>\n",
              "      <td>0.072926</td>\n",
              "      <td>60</td>\n",
              "      <td>0.0</td>\n",
              "      <td>0.0</td>\n",
              "      <td>0.0</td>\n",
              "      <td>0.0</td>\n",
              "      <td>0.0</td>\n",
              "      <td>579.0</td>\n",
              "      <td>534.0</td>\n",
              "      <td>474.0</td>\n",
              "      <td>459.0</td>\n",
              "      <td>4</td>\n",
              "      <td>3.0</td>\n",
              "      <td>(0.0, 1.0, 0.0)</td>\n",
              "      <td>0.0</td>\n",
              "      <td>0.0</td>\n",
              "    </tr>\n",
              "    <tr>\n",
              "      <th>2</th>\n",
              "      <td>2016-01-01 00:00:00</td>\n",
              "      <td>170.262559</td>\n",
              "      <td>444.910532</td>\n",
              "      <td>107.530806</td>\n",
              "      <td>40.707467</td>\n",
              "      <td>170.484633</td>\n",
              "      <td>457.562043</td>\n",
              "      <td>100.751848</td>\n",
              "      <td>41.019130</td>\n",
              "      <td>166.773586</td>\n",
              "      <td>41.320703</td>\n",
              "      <td>450.162801</td>\n",
              "      <td>100.098801</td>\n",
              "      <td>10.525109</td>\n",
              "      <td>8.321757</td>\n",
              "      <td>6.273491</td>\n",
              "      <td>1.704244</td>\n",
              "      <td>0.332061</td>\n",
              "      <td>1.331433</td>\n",
              "      <td>0.767676</td>\n",
              "      <td>0.146732</td>\n",
              "      <td>0.633578</td>\n",
              "      <td>1.405945</td>\n",
              "      <td>0.360549</td>\n",
              "      <td>0.060784</td>\n",
              "      <td>60</td>\n",
              "      <td>0.0</td>\n",
              "      <td>0.0</td>\n",
              "      <td>0.0</td>\n",
              "      <td>0.0</td>\n",
              "      <td>0.0</td>\n",
              "      <td>579.0</td>\n",
              "      <td>534.0</td>\n",
              "      <td>474.0</td>\n",
              "      <td>459.0</td>\n",
              "      <td>4</td>\n",
              "      <td>3.0</td>\n",
              "      <td>(0.0, 1.0, 0.0)</td>\n",
              "      <td>0.0</td>\n",
              "      <td>0.0</td>\n",
              "    </tr>\n",
              "    <tr>\n",
              "      <th>3</th>\n",
              "      <td>2015-12-31 21:00:00</td>\n",
              "      <td>168.169328</td>\n",
              "      <td>453.981021</td>\n",
              "      <td>98.461255</td>\n",
              "      <td>43.418780</td>\n",
              "      <td>169.776971</td>\n",
              "      <td>456.909157</td>\n",
              "      <td>98.917461</td>\n",
              "      <td>40.899594</td>\n",
              "      <td>166.512359</td>\n",
              "      <td>41.642311</td>\n",
              "      <td>451.107050</td>\n",
              "      <td>100.004211</td>\n",
              "      <td>13.073391</td>\n",
              "      <td>6.626638</td>\n",
              "      <td>2.534317</td>\n",
              "      <td>2.727416</td>\n",
              "      <td>2.789753</td>\n",
              "      <td>0.764817</td>\n",
              "      <td>0.346953</td>\n",
              "      <td>0.027524</td>\n",
              "      <td>1.101228</td>\n",
              "      <td>0.376190</td>\n",
              "      <td>0.066212</td>\n",
              "      <td>0.045780</td>\n",
              "      <td>60</td>\n",
              "      <td>0.0</td>\n",
              "      <td>0.0</td>\n",
              "      <td>0.0</td>\n",
              "      <td>0.0</td>\n",
              "      <td>0.0</td>\n",
              "      <td>578.0</td>\n",
              "      <td>533.0</td>\n",
              "      <td>473.0</td>\n",
              "      <td>458.0</td>\n",
              "      <td>4</td>\n",
              "      <td>3.0</td>\n",
              "      <td>(0.0, 1.0, 0.0)</td>\n",
              "      <td>0.0</td>\n",
              "      <td>0.0</td>\n",
              "    </tr>\n",
              "    <tr>\n",
              "      <th>4</th>\n",
              "      <td>2015-12-31 18:00:00</td>\n",
              "      <td>181.583369</td>\n",
              "      <td>460.177215</td>\n",
              "      <td>92.763549</td>\n",
              "      <td>39.020584</td>\n",
              "      <td>170.272706</td>\n",
              "      <td>453.480797</td>\n",
              "      <td>98.386310</td>\n",
              "      <td>40.507900</td>\n",
              "      <td>167.148002</td>\n",
              "      <td>41.580618</td>\n",
              "      <td>450.474985</td>\n",
              "      <td>100.213763</td>\n",
              "      <td>0.529714</td>\n",
              "      <td>11.744239</td>\n",
              "      <td>0.998924</td>\n",
              "      <td>1.690766</td>\n",
              "      <td>0.196045</td>\n",
              "      <td>1.003252</td>\n",
              "      <td>0.768612</td>\n",
              "      <td>0.436406</td>\n",
              "      <td>0.167026</td>\n",
              "      <td>1.509488</td>\n",
              "      <td>0.193150</td>\n",
              "      <td>0.131995</td>\n",
              "      <td>60</td>\n",
              "      <td>0.0</td>\n",
              "      <td>0.0</td>\n",
              "      <td>0.0</td>\n",
              "      <td>0.0</td>\n",
              "      <td>0.0</td>\n",
              "      <td>578.0</td>\n",
              "      <td>533.0</td>\n",
              "      <td>473.0</td>\n",
              "      <td>458.0</td>\n",
              "      <td>4</td>\n",
              "      <td>3.0</td>\n",
              "      <td>(0.0, 1.0, 0.0)</td>\n",
              "      <td>0.0</td>\n",
              "      <td>0.0</td>\n",
              "    </tr>\n",
              "    <tr>\n",
              "      <th>5</th>\n",
              "      <td>2015-12-31 15:00:00</td>\n",
              "      <td>161.923275</td>\n",
              "      <td>471.179402</td>\n",
              "      <td>104.251783</td>\n",
              "      <td>40.929688</td>\n",
              "      <td>164.797932</td>\n",
              "      <td>446.889030</td>\n",
              "      <td>100.060783</td>\n",
              "      <td>41.448674</td>\n",
              "      <td>164.108382</td>\n",
              "      <td>42.122185</td>\n",
              "      <td>447.659853</td>\n",
              "      <td>101.450707</td>\n",
              "      <td>4.124094</td>\n",
              "      <td>11.663660</td>\n",
              "      <td>4.626597</td>\n",
              "      <td>1.495421</td>\n",
              "      <td>1.491606</td>\n",
              "      <td>5.628500</td>\n",
              "      <td>0.077016</td>\n",
              "      <td>0.136219</td>\n",
              "      <td>0.204888</td>\n",
              "      <td>3.269642</td>\n",
              "      <td>0.217484</td>\n",
              "      <td>0.065363</td>\n",
              "      <td>60</td>\n",
              "      <td>0.0</td>\n",
              "      <td>0.0</td>\n",
              "      <td>0.0</td>\n",
              "      <td>0.0</td>\n",
              "      <td>0.0</td>\n",
              "      <td>578.0</td>\n",
              "      <td>533.0</td>\n",
              "      <td>473.0</td>\n",
              "      <td>458.0</td>\n",
              "      <td>4</td>\n",
              "      <td>3.0</td>\n",
              "      <td>(0.0, 1.0, 0.0)</td>\n",
              "      <td>0.0</td>\n",
              "      <td>0.0</td>\n",
              "    </tr>\n",
              "    <tr>\n",
              "      <th>6</th>\n",
              "      <td>2015-12-31 12:00:00</td>\n",
              "      <td>167.431912</td>\n",
              "      <td>442.298992</td>\n",
              "      <td>100.193256</td>\n",
              "      <td>40.229322</td>\n",
              "      <td>163.062540</td>\n",
              "      <td>442.763560</td>\n",
              "      <td>99.445755</td>\n",
              "      <td>41.622275</td>\n",
              "      <td>163.607945</td>\n",
              "      <td>42.265109</td>\n",
              "      <td>445.499398</td>\n",
              "      <td>101.575411</td>\n",
              "      <td>2.949253</td>\n",
              "      <td>8.432152</td>\n",
              "      <td>4.731255</td>\n",
              "      <td>0.262570</td>\n",
              "      <td>1.404478</td>\n",
              "      <td>3.585269</td>\n",
              "      <td>1.302726</td>\n",
              "      <td>0.126604</td>\n",
              "      <td>0.605193</td>\n",
              "      <td>1.401294</td>\n",
              "      <td>0.515763</td>\n",
              "      <td>0.350314</td>\n",
              "      <td>60</td>\n",
              "      <td>0.0</td>\n",
              "      <td>0.0</td>\n",
              "      <td>0.0</td>\n",
              "      <td>0.0</td>\n",
              "      <td>0.0</td>\n",
              "      <td>578.0</td>\n",
              "      <td>533.0</td>\n",
              "      <td>473.0</td>\n",
              "      <td>458.0</td>\n",
              "      <td>4</td>\n",
              "      <td>3.0</td>\n",
              "      <td>(0.0, 1.0, 0.0)</td>\n",
              "      <td>0.0</td>\n",
              "      <td>0.0</td>\n",
              "    </tr>\n",
              "    <tr>\n",
              "      <th>7</th>\n",
              "      <td>2015-12-31 09:00:00</td>\n",
              "      <td>170.152267</td>\n",
              "      <td>440.267578</td>\n",
              "      <td>96.336650</td>\n",
              "      <td>41.852004</td>\n",
              "      <td>163.247748</td>\n",
              "      <td>445.304944</td>\n",
              "      <td>101.090962</td>\n",
              "      <td>42.385029</td>\n",
              "      <td>163.894898</td>\n",
              "      <td>42.064928</td>\n",
              "      <td>445.573181</td>\n",
              "      <td>101.029689</td>\n",
              "      <td>2.902387</td>\n",
              "      <td>12.623303</td>\n",
              "      <td>5.891664</td>\n",
              "      <td>0.153193</td>\n",
              "      <td>0.581314</td>\n",
              "      <td>1.858875</td>\n",
              "      <td>0.495848</td>\n",
              "      <td>0.067000</td>\n",
              "      <td>0.100407</td>\n",
              "      <td>0.305849</td>\n",
              "      <td>0.145826</td>\n",
              "      <td>0.175761</td>\n",
              "      <td>60</td>\n",
              "      <td>0.0</td>\n",
              "      <td>0.0</td>\n",
              "      <td>0.0</td>\n",
              "      <td>0.0</td>\n",
              "      <td>0.0</td>\n",
              "      <td>578.0</td>\n",
              "      <td>533.0</td>\n",
              "      <td>473.0</td>\n",
              "      <td>458.0</td>\n",
              "      <td>4</td>\n",
              "      <td>3.0</td>\n",
              "      <td>(0.0, 1.0, 0.0)</td>\n",
              "      <td>0.0</td>\n",
              "      <td>0.0</td>\n",
              "    </tr>\n",
              "    <tr>\n",
              "      <th>8</th>\n",
              "      <td>2015-12-31 06:00:00</td>\n",
              "      <td>159.684275</td>\n",
              "      <td>433.810148</td>\n",
              "      <td>99.461441</td>\n",
              "      <td>42.783680</td>\n",
              "      <td>164.023299</td>\n",
              "      <td>447.469174</td>\n",
              "      <td>102.041216</td>\n",
              "      <td>42.653336</td>\n",
              "      <td>165.401512</td>\n",
              "      <td>41.691746</td>\n",
              "      <td>442.872655</td>\n",
              "      <td>101.230104</td>\n",
              "      <td>7.314862</td>\n",
              "      <td>7.165871</td>\n",
              "      <td>3.437974</td>\n",
              "      <td>1.661660</td>\n",
              "      <td>0.024323</td>\n",
              "      <td>2.320095</td>\n",
              "      <td>0.387279</td>\n",
              "      <td>0.240286</td>\n",
              "      <td>0.116355</td>\n",
              "      <td>1.505692</td>\n",
              "      <td>0.194024</td>\n",
              "      <td>0.057104</td>\n",
              "      <td>60</td>\n",
              "      <td>0.0</td>\n",
              "      <td>0.0</td>\n",
              "      <td>0.0</td>\n",
              "      <td>0.0</td>\n",
              "      <td>0.0</td>\n",
              "      <td>578.0</td>\n",
              "      <td>533.0</td>\n",
              "      <td>473.0</td>\n",
              "      <td>458.0</td>\n",
              "      <td>4</td>\n",
              "      <td>3.0</td>\n",
              "      <td>(0.0, 1.0, 0.0)</td>\n",
              "      <td>0.0</td>\n",
              "      <td>0.0</td>\n",
              "    </tr>\n",
              "    <tr>\n",
              "      <th>9</th>\n",
              "      <td>2015-12-31 03:00:00</td>\n",
              "      <td>154.981705</td>\n",
              "      <td>454.677523</td>\n",
              "      <td>101.791672</td>\n",
              "      <td>41.624095</td>\n",
              "      <td>163.418831</td>\n",
              "      <td>448.430676</td>\n",
              "      <td>102.840632</td>\n",
              "      <td>42.795697</td>\n",
              "      <td>166.756664</td>\n",
              "      <td>41.178150</td>\n",
              "      <td>446.168794</td>\n",
              "      <td>100.886666</td>\n",
              "      <td>1.826989</td>\n",
              "      <td>6.051152</td>\n",
              "      <td>0.121616</td>\n",
              "      <td>1.744729</td>\n",
              "      <td>0.958883</td>\n",
              "      <td>0.981814</td>\n",
              "      <td>0.538378</td>\n",
              "      <td>0.169878</td>\n",
              "      <td>0.363829</td>\n",
              "      <td>0.614981</td>\n",
              "      <td>0.023348</td>\n",
              "      <td>0.051999</td>\n",
              "      <td>60</td>\n",
              "      <td>0.0</td>\n",
              "      <td>0.0</td>\n",
              "      <td>0.0</td>\n",
              "      <td>0.0</td>\n",
              "      <td>0.0</td>\n",
              "      <td>578.0</td>\n",
              "      <td>533.0</td>\n",
              "      <td>473.0</td>\n",
              "      <td>458.0</td>\n",
              "      <td>4</td>\n",
              "      <td>3.0</td>\n",
              "      <td>(0.0, 1.0, 0.0)</td>\n",
              "      <td>0.0</td>\n",
              "      <td>0.0</td>\n",
              "    </tr>\n",
              "  </tbody>\n",
              "</table>\n",
              "</div>"
            ],
            "text/plain": [
              "         dt_truncated  volt_rollingmean_3  ...  failure  label\n",
              "0 2016-01-01 06:00:00          155.926136  ...      0.0    0.0\n",
              "1 2016-01-01 03:00:00          177.241489  ...      0.0    0.0\n",
              "2 2016-01-01 00:00:00          170.262559  ...      0.0    0.0\n",
              "3 2015-12-31 21:00:00          168.169328  ...      0.0    0.0\n",
              "4 2015-12-31 18:00:00          181.583369  ...      0.0    0.0\n",
              "5 2015-12-31 15:00:00          161.923275  ...      0.0    0.0\n",
              "6 2015-12-31 12:00:00          167.431912  ...      0.0    0.0\n",
              "7 2015-12-31 09:00:00          170.152267  ...      0.0    0.0\n",
              "8 2015-12-31 06:00:00          159.684275  ...      0.0    0.0\n",
              "9 2015-12-31 03:00:00          154.981705  ...      0.0    0.0\n",
              "\n",
              "[10 rows x 40 columns]"
            ]
          },
          "metadata": {
            "tags": []
          },
          "execution_count": 3
        }
      ]
    },
    {
      "cell_type": "markdown",
      "metadata": {
        "id": "DsI2t9L5ryBz"
      },
      "source": [
        "However, the data is very imbalanced. Most of the time there are no failures at all. We will tackle this by undersampling."
      ]
    },
    {
      "cell_type": "code",
      "metadata": {
        "colab": {
          "base_uri": "https://localhost:8080/",
          "height": 374
        },
        "id": "3fHiV4xS9_c7",
        "outputId": "a86a2a76-5b5c-4577-af69-58c68f9c42c4"
      },
      "source": [
        "sns.set_theme(style=\"whitegrid\")\n",
        "pie, ax = plt.subplots(figsize=[10,6])\n",
        "plt.pie(x=label_count_pd['count'].tolist(), autopct=\"%.1f%%\", explode=[0.05]*5, labels=label_count_pd['label'].tolist(), pctdistance=0.5)\n",
        "plt.title(\"Labels\", fontsize=14)\n",
        "plt.show()"
      ],
      "execution_count": 4,
      "outputs": [
        {
          "output_type": "display_data",
          "data": {
            "image/png": "[encoded data removed]",
            "text/plain": [
              "<Figure size 720x432 with 1 Axes>"
            ]
          },
          "metadata": {
            "tags": []
          }
        }
      ]
    },
    {
      "cell_type": "markdown",
      "metadata": {
        "id": "cQ3jP6a9sPdd"
      },
      "source": [
        "We remove some columns as input features."
      ]
    },
    {
      "cell_type": "code",
      "metadata": {
        "colab": {
          "base_uri": "https://localhost:8080/"
        },
        "id": "_2dYRYi_NkVq",
        "outputId": "ff4913a6-c2c6-4c0f-bd96-83aa3461c744"
      },
      "source": [
        "label_var = ['label']\n",
        "key_cols =['machineID','dt_truncated']\n",
        "input_features = feat_data.columns\n",
        "remove_cols = label_var + key_cols + ['failure','model_encoded']\n",
        "\n",
        "# Remove the extra names if that are in the input_features list\n",
        "input_features = [x for x in input_features if x not in set(remove_cols)]\n",
        "# Use cols\n",
        "input_features"
      ],
      "execution_count": 5,
      "outputs": [
        {
          "output_type": "execute_result",
          "data": {
            "text/plain": [
              "['volt_rollingmean_3',\n",
              " 'rotate_rollingmean_3',\n",
              " 'pressure_rollingmean_3',\n",
              " 'vibration_rollingmean_3',\n",
              " 'volt_rollingmean_12',\n",
              " 'rotate_rollingmean_12',\n",
              " 'pressure_rollingmean_12',\n",
              " 'vibration_rollingmean_12',\n",
              " 'volt_rollingmean_24',\n",
              " 'vibration_rollingmean_24',\n",
              " 'rotate_rollingmean_24',\n",
              " 'pressure_rollingmean_24',\n",
              " 'volt_rollingstd_3',\n",
              " 'rotate_rollingstd_3',\n",
              " 'pressure_rollingstd_3',\n",
              " 'vibration_rollingstd_3',\n",
              " 'volt_rollingstd_12',\n",
              " 'rotate_rollingstd_12',\n",
              " 'pressure_rollingstd_12',\n",
              " 'vibration_rollingstd_12',\n",
              " 'volt_rollingstd_24',\n",
              " 'rotate_rollingstd_24',\n",
              " 'pressure_rollingstd_24',\n",
              " 'vibration_rollingstd_24',\n",
              " 'error1sum_rollingmean_12',\n",
              " 'error2sum_rollingmean_12',\n",
              " 'error3sum_rollingmean_12',\n",
              " 'error4sum_rollingmean_12',\n",
              " 'error5sum_rollingmean_12',\n",
              " 'comp1sum',\n",
              " 'comp2sum',\n",
              " 'comp3sum',\n",
              " 'comp4sum',\n",
              " 'model',\n",
              " 'age']"
            ]
          },
          "metadata": {
            "tags": []
          },
          "execution_count": 5
        }
      ]
    },
    {
      "cell_type": "markdown",
      "metadata": {
        "id": "yRePYvyItB7z"
      },
      "source": [
        "### Train/ Test split\n",
        "\n",
        "Here, we assemble the features to be used as input features and split the data into training and testing. The split will be 10 months for training and 2 months for testing.\n",
        "\n",
        "We then undersample the labels as 0 so the model is less biased."
      ]
    },
    {
      "cell_type": "code",
      "metadata": {
        "colab": {
          "base_uri": "https://localhost:8080/"
        },
        "id": "rXVkfhnWNkVr",
        "outputId": "87525d99-5d3e-4833-f4ac-93b96448abdc"
      },
      "source": [
        "# assemble features\n",
        "va = VectorAssembler(inputCols=(input_features), outputCol='features')\n",
        "feat_data = va.transform(feat_data).select('machineID','dt_truncated','label','features')\n",
        "\n",
        "# set maxCategories so features with > 10 distinct values are treated as continuous.\n",
        "featureIndexer = VectorIndexer(inputCol=\"features\", \n",
        "                               outputCol=\"indexedFeatures\", \n",
        "                               maxCategories=10).fit(feat_data)\n",
        "\n",
        "# fit on whole dataset to include all labels in index\n",
        "labelIndexer = StringIndexer(inputCol=\"label\", outputCol=\"indexedLabel\").fit(feat_data)\n",
        "\n",
        "# split the data into train/test based on date\n",
        "split_date = \"2015-10-30\"\n",
        "training = feat_data.filter(feat_data.dt_truncated < split_date)\n",
        "testing = feat_data.filter(feat_data.dt_truncated >= split_date)\n",
        "\n",
        "# Undersampling\n",
        "training = training.sampleBy('label', fractions={0: 0.2, 1: 1.0, 2: 1.0, 3: 1.0, 4: 1.0}, seed=0)\n",
        "\n",
        "print(training.count())\n",
        "print(testing.count())"
      ],
      "execution_count": 6,
      "outputs": [
        {
          "output_type": "stream",
          "text": [
            "52082\n",
            "50708\n"
          ],
          "name": "stdout"
        }
      ]
    },
    {
      "cell_type": "markdown",
      "metadata": {
        "id": "JCDdpSe9tgUR"
      },
      "source": [
        "As we can see below, it is less imbalanced than before."
      ]
    },
    {
      "cell_type": "code",
      "metadata": {
        "scrolled": true,
        "colab": {
          "base_uri": "https://localhost:8080/",
          "height": 374
        },
        "id": "i1Qku1-JNkVs",
        "outputId": "542bcd76-3853-4e99-dadb-927d89c6fd89"
      },
      "source": [
        "label_count_pd = training.groupby('label').count().toPandas()\n",
        "pie, ax = plt.subplots(figsize=[10,6])\n",
        "plt.pie(x=label_count_pd['count'].tolist(), autopct=\"%.1f%%\", explode=[0.05]*5, labels=label_count_pd['label'].tolist(), pctdistance=0.5)\n",
        "plt.title(\"Labels\", fontsize=14)\n",
        "plt.show()"
      ],
      "execution_count": 7,
      "outputs": [
        {
          "output_type": "display_data",
          "data": {
            "image/png": "[encoded data removed]",
            "text/plain": [
              "<Figure size 720x432 with 1 Axes>"
            ]
          },
          "metadata": {
            "tags": []
          }
        }
      ]
    },
    {
      "cell_type": "markdown",
      "metadata": {
        "id": "93miJ3m3uOG2"
      },
      "source": [
        "### Training"
      ]
    },
    {
      "cell_type": "markdown",
      "metadata": {
        "id": "bzYTmorNtoC3"
      },
      "source": [
        "Here, we will then train the model from the pipeline and make predictions."
      ]
    },
    {
      "cell_type": "code",
      "metadata": {
        "colab": {
          "base_uri": "https://localhost:8080/"
        },
        "id": "Y-xk2dB7NkVt",
        "outputId": "a837255c-cbb2-4898-dc97-09e280299874"
      },
      "source": [
        "# Train a RandomForest model.\n",
        "rf = RandomForestClassifier(labelCol=\"indexedLabel\", featuresCol=\"indexedFeatures\", numTrees=100)\n",
        "\n",
        "# Chain indexers and forest in a Pipeline\n",
        "pipeline_rf = Pipeline(stages=[labelIndexer, featureIndexer, rf])\n",
        "\n",
        "# Train model.  This also runs the indexers.\n",
        "model_rf = pipeline_rf.fit(training)\n",
        "\n",
        "# Save model\n",
        "datestamp = str(datetime.datetime.now());\n",
        "rf_fileName = \"RandomForest_\" + datestamp;\n",
        "rfDirfilename = '../models/' + rf_fileName;\n",
        "model_rf.save(rfDirfilename)\n",
        "\n",
        "# Make predictions.\n",
        "predictions_rf = model_rf.transform(testing)\n",
        "predictions_rf.groupby('indexedLabel', 'prediction').count().show()"
      ],
      "execution_count": 8,
      "outputs": [
        {
          "output_type": "stream",
          "text": [
            "+------------+----------+-----+\n",
            "|indexedLabel|prediction|count|\n",
            "+------------+----------+-----+\n",
            "|         2.0|       0.0|   13|\n",
            "|         1.0|       1.0|  331|\n",
            "|         3.0|       2.0|    2|\n",
            "|         0.0|       1.0|   43|\n",
            "|         0.0|       4.0|   12|\n",
            "|         2.0|       2.0|  204|\n",
            "|         3.0|       1.0|    2|\n",
            "|         2.0|       3.0|    6|\n",
            "|         4.0|       4.0|  130|\n",
            "|         2.0|       4.0|    1|\n",
            "|         2.0|       1.0|    2|\n",
            "|         1.0|       2.0|    2|\n",
            "|         0.0|       0.0|49651|\n",
            "|         0.0|       2.0|   29|\n",
            "|         4.0|       0.0|   31|\n",
            "|         3.0|       3.0|  134|\n",
            "|         0.0|       3.0|   26|\n",
            "|         3.0|       0.0|   75|\n",
            "|         4.0|       1.0|   14|\n",
            "+------------+----------+-----+\n",
            "\n"
          ],
          "name": "stdout"
        }
      ]
    },
    {
      "cell_type": "code",
      "metadata": {
        "colab": {
          "base_uri": "https://localhost:8080/"
        },
        "id": "hOdxmYRTNkVv",
        "outputId": "fd61e3d6-e7c8-4ee4-9e24-143b65b0f582"
      },
      "source": [
        "predictions_rf.dtypes"
      ],
      "execution_count": 9,
      "outputs": [
        {
          "output_type": "execute_result",
          "data": {
            "text/plain": [
              "[('machineID', 'string'),\n",
              " ('dt_truncated', 'timestamp'),\n",
              " ('label', 'double'),\n",
              " ('features', 'vector'),\n",
              " ('indexedLabel', 'double'),\n",
              " ('indexedFeatures', 'vector'),\n",
              " ('rawPrediction', 'vector'),\n",
              " ('probability', 'vector'),\n",
              " ('prediction', 'double')]"
            ]
          },
          "metadata": {
            "tags": []
          },
          "execution_count": 9
        }
      ]
    },
    {
      "cell_type": "markdown",
      "metadata": {
        "id": "tLY6wupjt0Po"
      },
      "source": [
        "The prediction is obtained, the true label is the indexedLabel column and the prediction is prediction column. The probability is also obtained."
      ]
    },
    {
      "cell_type": "code",
      "metadata": {
        "colab": {
          "base_uri": "https://localhost:8080/"
        },
        "id": "NycSvLE_NkVv",
        "outputId": "edb5c973-cab8-4fd0-f8d8-131e4639d906"
      },
      "source": [
        "predictions_rf.show()"
      ],
      "execution_count": 10,
      "outputs": [
        {
          "output_type": "stream",
          "text": [
            "+---------+-------------------+-----+--------------------+------------+--------------------+--------------------+--------------------+----------+\n",
            "|machineID|       dt_truncated|label|            features|indexedLabel|     indexedFeatures|       rawPrediction|         probability|prediction|\n",
            "+---------+-------------------+-----+--------------------+------------+--------------------+--------------------+--------------------+----------+\n",
            "|       60|2016-01-01 06:00:00|  0.0|[155.926135776438...|         0.0|[155.926135776438...|[98.4152775930517...|[0.98415277593051...|       0.0|\n",
            "|       60|2016-01-01 03:00:00|  0.0|[177.241488520938...|         0.0|[177.241488520938...|[98.4152775930517...|[0.98415277593051...|       0.0|\n",
            "|       60|2016-01-01 00:00:00|  0.0|[170.262559141675...|         0.0|[170.262559141675...|[98.4152775930517...|[0.98415277593051...|       0.0|\n",
            "|       60|2015-12-31 21:00:00|  0.0|[168.169327803014...|         0.0|[168.169327803014...|[98.4152775930517...|[0.98415277593051...|       0.0|\n",
            "|       60|2015-12-31 18:00:00|  0.0|[181.583369003555...|         0.0|[181.583369003555...|[98.4152775930517...|[0.98415277593051...|       0.0|\n",
            "|       60|2015-12-31 15:00:00|  0.0|[161.923274970644...|         0.0|[161.923274970644...|[98.4152775930517...|[0.98415277593051...|       0.0|\n",
            "|       60|2015-12-31 12:00:00|  0.0|[167.431911924999...|         0.0|[167.431911924999...|[98.4152775930517...|[0.98415277593051...|       0.0|\n",
            "|       60|2015-12-31 09:00:00|  0.0|[170.152267115136...|         0.0|[170.152267115136...|[98.4152775930517...|[0.98415277593051...|       0.0|\n",
            "|       60|2015-12-31 06:00:00|  0.0|[159.684274619585...|         0.0|[159.684274619585...|[98.4152775930517...|[0.98415277593051...|       0.0|\n",
            "|       60|2015-12-31 03:00:00|  0.0|[154.981704888472...|         0.0|[154.981704888472...|[98.4152775930517...|[0.98415277593051...|       0.0|\n",
            "|       60|2015-12-31 00:00:00|  0.0|[168.172745160222...|         0.0|[168.172745160222...|[98.4152775930517...|[0.98415277593051...|       0.0|\n",
            "|       60|2015-12-30 21:00:00|  0.0|[173.254471431151...|         0.0|[173.254471431151...|[98.4152775930517...|[0.98415277593051...|       0.0|\n",
            "|       60|2015-12-30 18:00:00|  0.0|[157.266404351203...|         0.0|[157.266404351203...|[98.4152775930517...|[0.98415277593051...|       0.0|\n",
            "|       60|2015-12-30 15:00:00|  0.0|[157.919776874265...|         0.0|[157.919776874265...|[98.4152775930517...|[0.98415277593051...|       0.0|\n",
            "|       60|2015-12-30 12:00:00|  0.0|[169.727542108870...|         0.0|[169.727542108870...|[98.4152775930517...|[0.98415277593051...|       0.0|\n",
            "|       60|2015-12-30 09:00:00|  0.0|[182.205174112282...|         0.0|[182.205174112282...|[98.4152775930517...|[0.98415277593051...|       0.0|\n",
            "|       60|2015-12-30 06:00:00|  0.0|[170.525490802353...|         0.0|[170.525490802353...|[98.4152775930517...|[0.98415277593051...|       0.0|\n",
            "|       60|2015-12-30 03:00:00|  0.0|[168.395532322796...|         0.0|[168.395532322796...|[98.4152775930517...|[0.98415277593051...|       0.0|\n",
            "|       60|2015-12-30 00:00:00|  0.0|[182.980915177367...|         0.0|[182.980915177367...|[98.4152775930517...|[0.98415277593051...|       0.0|\n",
            "|       60|2015-12-29 21:00:00|  0.0|[187.742278995734...|         0.0|[187.742278995734...|[98.3569588490093...|[0.98356958849009...|       0.0|\n",
            "+---------+-------------------+-----+--------------------+------------+--------------------+--------------------+--------------------+----------+\n",
            "only showing top 20 rows\n",
            "\n"
          ],
          "name": "stdout"
        }
      ]
    },
    {
      "cell_type": "markdown",
      "metadata": {
        "id": "KqRs6SyauTGA"
      },
      "source": [
        "### Evaluation"
      ]
    },
    {
      "cell_type": "markdown",
      "metadata": {
        "id": "NxhE36FsuWBB"
      },
      "source": [
        "We then evaluate the model with the following metrics."
      ]
    },
    {
      "cell_type": "code",
      "metadata": {
        "colab": {
          "base_uri": "https://localhost:8080/",
          "height": 474
        },
        "id": "WyJ_TF10NkVw",
        "outputId": "242408ae-7475-4d30-986e-be59d02c3e57"
      },
      "source": [
        "predictionAndLabels = predictions_rf.select(\"indexedLabel\", \"prediction\").rdd\n",
        "metrics = BinaryClassificationMetrics(predictionAndLabels)\n",
        "print(\"Area under ROC = %g\" % metrics.areaUnderROC)\n",
        "print(\"Area under PR = %g\\n\" % metrics.areaUnderPR)\n",
        "\n",
        "# Select (prediction, true label) and compute test error\n",
        "evaluator = MulticlassClassificationEvaluator(labelCol=\"indexedLabel\", predictionCol=\"prediction\")\n",
        "print(\"Accuracy = %g\" % evaluator.evaluate(predictions_rf, {evaluator.metricName: \"accuracy\"}))\n",
        "print(\"Weighted Precision = %g\" % evaluator.evaluate(predictions_rf, {evaluator.metricName: \"weightedPrecision\"}))\n",
        "print(\"Weighted Recall = %g\" % evaluator.evaluate(predictions_rf, {evaluator.metricName: \"weightedRecall\"}))\n",
        "print(\"F1 = %g\" % evaluator.evaluate(predictions_rf, {evaluator.metricName: \"f1\"}))\n",
        "\n",
        "# PLOT ROC curve after converting predictions to a Pandas dataframe\n",
        "%matplotlib inline\n",
        "predictions_rf_pddf = predictions_rf.select('indexedLabel','probability').toPandas()\n",
        "labels = predictions_rf_pddf[\"indexedLabel\"]\n",
        "prob = []\n",
        "for dv in predictions_rf_pddf[\"probability\"]:\n",
        "    prob.append(dv.values[1])\n",
        "     \n",
        "fpr, tpr, thresholds = roc_curve(labels, prob, pos_label=1.0);\n",
        "roc_auc = auc(fpr, tpr)\n",
        "\n",
        "plt.figure(figsize=(5, 5))\n",
        "plt.plot(fpr, tpr, label='ROC curve (area = %0.2f)' % roc_auc)\n",
        "plt.plot([0, 1], [0, 1], 'k--')\n",
        "plt.xlim([0.0, 1.0])\n",
        "plt.ylim([0.0, 1.05])\n",
        "plt.xlabel('False Positive Rate')\n",
        "plt.ylabel('True Positive Rate')\n",
        "plt.title('ROC Curve')\n",
        "plt.legend(loc=\"lower right\")\n",
        "plt.show()"
      ],
      "execution_count": 11,
      "outputs": [
        {
          "output_type": "stream",
          "text": [
            "Area under ROC = 0.939612\n",
            "Area under PR = 0.765028\n",
            "\n",
            "Accuracy = 0.994912\n",
            "Weighted Precision = 0.994888\n",
            "Weighted Recall = 0.994912\n",
            "F1 = 0.994782\n"
          ],
          "name": "stdout"
        },
        {
          "output_type": "display_data",
          "data": {
            "image/png": "[encoded data removed]",
            "text/plain": [
              "<Figure size 360x360 with 1 Axes>"
            ]
          },
          "metadata": {
            "tags": [],
            "needs_background": "light"
          }
        }
      ]
    },
    {
      "cell_type": "markdown",
      "metadata": {
        "id": "0KgBjy-xueDj"
      },
      "source": [
        "Having a more detailed look at the classes."
      ]
    },
    {
      "cell_type": "code",
      "metadata": {
        "colab": {
          "base_uri": "https://localhost:8080/"
        },
        "id": "1jIBdLMKNkVz",
        "outputId": "76aa4c8b-f0e5-401f-9a38-c1fb8b271a4d"
      },
      "source": [
        "# Use sklearn\n",
        "rf_result = predictions_rf.select('indexedLabel', 'prediction').toPandas()\n",
        "\n",
        "rf_label = rf_result['indexedLabel'].tolist()\n",
        "rf_prediction = rf_result['prediction'].tolist()\n",
        "\n",
        "precision, recall, fscore, support = score(rf_label, rf_prediction)\n",
        "\n",
        "print('precision: {}'.format(precision))\n",
        "print('recall: {}'.format(recall))\n",
        "print('fscore: {}'.format(fscore))\n",
        "print('support: {}'.format(support))"
      ],
      "execution_count": 12,
      "outputs": [
        {
          "output_type": "stream",
          "text": [
            "precision: [0.997609   0.84438776 0.86075949 0.80722892 0.90909091]\n",
            "recall: [0.99778943 0.99399399 0.90265487 0.62910798 0.74285714]\n",
            "fscore: [0.99769921 0.91310345 0.8812095  0.70712401 0.81761006]\n",
            "support: [49761   333   226   213   175]\n"
          ],
          "name": "stdout"
        }
      ]
    },
    {
      "cell_type": "markdown",
      "metadata": {
        "id": "nroyqqz4ukkJ"
      },
      "source": [
        "### Hyperparameter  Tuning\n",
        "\n",
        "The model is already performing really well, using cross validation with grid search, we find the best set of parameters."
      ]
    },
    {
      "cell_type": "code",
      "metadata": {
        "id": "RfrXZjjiNkV0"
      },
      "source": [
        "# Train a RandomForest model.\n",
        "rf = RandomForestClassifier(labelCol=\"indexedLabel\", featuresCol=\"indexedFeatures\", \n",
        "                            featureSubsetStrategy=\"auto\", impurity=\"gini\", seed=123)\n",
        "\n",
        "# Chain indexers and forest in a Pipeline\n",
        "pipeline_rf = Pipeline(stages=[labelIndexer, featureIndexer, rf])\n",
        "\n",
        "\n",
        "## Define parameter grid\n",
        "paramGrid = ParamGridBuilder() \\\n",
        "    .addGrid(rf.numTrees, [20, 50, 100]) \\\n",
        "    .addGrid(rf.maxBins, [10, 20]) \\\n",
        "    .addGrid(rf.maxDepth, [3, 5, 7]) \\\n",
        "    .addGrid(rf.minInstancesPerNode, [1, 5, 10]) \\\n",
        "    .build()\n",
        "\n",
        "## Define cross-validation\n",
        "crossval = CrossValidator(estimator=pipeline_rf,\n",
        "                          estimatorParamMaps=paramGrid,\n",
        "                          evaluator=MulticlassClassificationEvaluator(metricName=\"weightedPrecision\"),\n",
        "                          numFolds=3)\n",
        "\n",
        "## Train model using CV\n",
        "cvModel = crossval.fit(training)"
      ],
      "execution_count": 13,
      "outputs": []
    },
    {
      "cell_type": "code",
      "metadata": {
        "id": "MDw1T_XSaeTa"
      },
      "source": [
        "datestamp = str(datetime.datetime.now());\n",
        "rf_fileName = \"CV_RandomForestClassificationModel\";\n",
        "rfDirfilename = '../models/' + rf_fileName;\n",
        "cvModel.bestModel.save(rfDirfilename)"
      ],
      "execution_count": 15,
      "outputs": []
    },
    {
      "cell_type": "code",
      "metadata": {
        "colab": {
          "base_uri": "https://localhost:8080/"
        },
        "id": "FROM5fwDZO71",
        "outputId": "49d836bf-af3c-41ba-8c51-0282fbb53a22"
      },
      "source": [
        "## Predict and evaluate\n",
        "predictions = cvModel.transform(testing)\n",
        "evaluator = MulticlassClassificationEvaluator(labelCol=\"indexedLabel\", predictionCol=\"prediction\", metricName=\"weightedPrecision\")\n",
        "r2 = evaluator.evaluate(predictions)\n",
        "print(\"weightedPrecision on test data = %g\" % r2)"
      ],
      "execution_count": 16,
      "outputs": [
        {
          "output_type": "stream",
          "text": [
            "weightedPrecision on test data = 0.99681\n"
          ],
          "name": "stdout"
        }
      ]
    },
    {
      "cell_type": "code",
      "metadata": {
        "colab": {
          "base_uri": "https://localhost:8080/"
        },
        "id": "6C9VSHSzNkV1",
        "outputId": "66800a9c-5368-4786-c6f4-6e0c4548e0b2"
      },
      "source": [
        "# Make predictions.\n",
        "predictions_rf = cvModel.bestModel.transform(testing)\n",
        "predictions_rf.groupby('indexedLabel', 'prediction').count().show()"
      ],
      "execution_count": 17,
      "outputs": [
        {
          "output_type": "stream",
          "text": [
            "+------------+----------+-----+\n",
            "|indexedLabel|prediction|count|\n",
            "+------------+----------+-----+\n",
            "|         1.0|       1.0|  330|\n",
            "|         3.0|       2.0|    2|\n",
            "|         0.0|       1.0|   44|\n",
            "|         0.0|       4.0|   19|\n",
            "|         2.0|       2.0|  219|\n",
            "|         3.0|       1.0|    2|\n",
            "|         2.0|       3.0|    7|\n",
            "|         4.0|       4.0|  158|\n",
            "|         1.0|       2.0|    3|\n",
            "|         0.0|       0.0|49621|\n",
            "|         4.0|       3.0|    1|\n",
            "|         0.0|       2.0|   31|\n",
            "|         4.0|       0.0|    2|\n",
            "|         3.0|       3.0|  197|\n",
            "|         0.0|       3.0|   46|\n",
            "|         3.0|       0.0|   12|\n",
            "|         4.0|       1.0|   14|\n",
            "+------------+----------+-----+\n",
            "\n"
          ],
          "name": "stdout"
        }
      ]
    },
    {
      "cell_type": "markdown",
      "metadata": {
        "id": "n613b7uFu9Ox"
      },
      "source": [
        "The best parameters are found to be the following:"
      ]
    },
    {
      "cell_type": "code",
      "metadata": {
        "colab": {
          "base_uri": "https://localhost:8080/"
        },
        "id": "aOMuy4RxTQFB",
        "outputId": "ca8f2342-5042-4dde-bcbb-678cf27394ae"
      },
      "source": [
        "print(\"Best MaxDepth: \",cvModel.bestModel.stages[-1]._java_obj.getMaxDepth())\n",
        "print(\"Best MaxBins: \",cvModel.bestModel.stages[-1]._java_obj.getMaxBins())\n",
        "print(\"Best NumTrees: \",cvModel.bestModel.stages[-1]._java_obj.getNumTrees())\n",
        "print(\"Best MinInstancesPerNode: \",cvModel.bestModel.stages[-1]._java_obj.getMinInstancesPerNode())\n"
      ],
      "execution_count": null,
      "outputs": [
        {
          "output_type": "stream",
          "text": [
            "Best MaxDepth:  7\n",
            "Best MaxBins:  20\n",
            "Best NumTrees:  100\n",
            "Best MinInstancesPerNode:  1\n"
          ],
          "name": "stdout"
        }
      ]
    },
    {
      "cell_type": "code",
      "metadata": {
        "colab": {
          "base_uri": "https://localhost:8080/",
          "height": 474
        },
        "id": "S6OGCbMhWhTT",
        "outputId": "159a070e-0941-4fcc-b785-3e4f7ecb3e79"
      },
      "source": [
        "predictionAndLabels = predictions_rf.select(\"indexedLabel\", \"prediction\").rdd\n",
        "metrics = BinaryClassificationMetrics(predictionAndLabels)\n",
        "print(\"Area under ROC = %g\" % metrics.areaUnderROC)\n",
        "print(\"Area under PR = %g\\n\" % metrics.areaUnderPR)\n",
        "\n",
        "# Select (prediction, true label) and compute test error\n",
        "evaluator = MulticlassClassificationEvaluator(labelCol=\"indexedLabel\", predictionCol=\"prediction\")\n",
        "print(\"Accuracy = %g\" % evaluator.evaluate(predictions_rf, {evaluator.metricName: \"accuracy\"}))\n",
        "print(\"Weighted Precision = %g\" % evaluator.evaluate(predictions_rf, {evaluator.metricName: \"weightedPrecision\"}))\n",
        "print(\"Weighted Recall = %g\" % evaluator.evaluate(predictions_rf, {evaluator.metricName: \"weightedRecall\"}))\n",
        "print(\"F1 = %g\" % evaluator.evaluate(predictions_rf, {evaluator.metricName: \"f1\"}))\n",
        "\n",
        "# PLOT ROC curve after converting predictions to a Pandas dataframe\n",
        "%matplotlib inline\n",
        "predictions_rf_pddf = predictions_rf.select('indexedLabel','probability').toPandas()\n",
        "labels = predictions_rf_pddf[\"indexedLabel\"]\n",
        "prob = []\n",
        "for dv in predictions_rf_pddf[\"probability\"]:\n",
        "    prob.append(dv.values[1])\n",
        "     \n",
        "fpr, tpr, thresholds = roc_curve(labels, prob, pos_label=1.0);\n",
        "roc_auc = auc(fpr, tpr)\n",
        "\n",
        "plt.figure(figsize=(5, 5))\n",
        "plt.plot(fpr, tpr, label='ROC curve (area = %0.2f)' % roc_auc)\n",
        "plt.plot([0, 1], [0, 1], 'k--')\n",
        "plt.xlim([0.0, 1.0])\n",
        "plt.ylim([0.0, 1.05])\n",
        "plt.xlabel('False Positive Rate')\n",
        "plt.ylabel('True Positive Rate')\n",
        "plt.title('ROC Curve')\n",
        "plt.legend(loc=\"lower right\")\n",
        "plt.show()"
      ],
      "execution_count": 18,
      "outputs": [
        {
          "output_type": "stream",
          "text": [
            "Area under ROC = 0.934564\n",
            "Area under PR = 0.916852\n",
            "\n",
            "Accuracy = 0.996391\n",
            "Weighted Precision = 0.99681\n",
            "Weighted Recall = 0.996391\n",
            "F1 = 0.996522\n"
          ],
          "name": "stdout"
        },
        {
          "output_type": "display_data",
          "data": {
            "image/png": "[encoded data removed]",
            "text/plain": [
              "<Figure size 360x360 with 1 Axes>"
            ]
          },
          "metadata": {
            "tags": [],
            "needs_background": "light"
          }
        }
      ]
    },
    {
      "cell_type": "markdown",
      "metadata": {
        "id": "tZWe6QUSvBbI"
      },
      "source": [
        "The main improvement after tuning is the area under PR, which went from 0.76 to 0.91. Let's take a look at the confusion matrix."
      ]
    },
    {
      "cell_type": "code",
      "metadata": {
        "id": "Ga3XlGaO_Ztj"
      },
      "source": [
        "cm = confusion_matrix(predictions_rf.select('indexedLabel').collect(), predictions_rf.select('prediction').collect())"
      ],
      "execution_count": 19,
      "outputs": []
    },
    {
      "cell_type": "code",
      "metadata": {
        "id": "EWNxI24r_vWi"
      },
      "source": [
        "cm = cm.astype('float') / cm.sum(axis=0)[:, np.newaxis]"
      ],
      "execution_count": 21,
      "outputs": []
    },
    {
      "cell_type": "code",
      "metadata": {
        "colab": {
          "base_uri": "https://localhost:8080/",
          "height": 268
        },
        "id": "lXlAZ2uo_zTF",
        "outputId": "22a48ba7-8495-405c-e605-684595c17e61"
      },
      "source": [
        "f = sns.heatmap(cm, cmap=\"YlGnBu\")"
      ],
      "execution_count": 23,
      "outputs": [
        {
          "output_type": "display_data",
          "data": {
            "image/png": "[encoded data removed]",
            "text/plain": [
              "<Figure size 432x288 with 2 Axes>"
            ]
          },
          "metadata": {
            "tags": [],
            "needs_background": "light"
          }
        }
      ]
    },
    {
      "cell_type": "markdown",
      "metadata": {
        "id": "lhlwTZfNvVRa"
      },
      "source": [
        "Unexpectedly, we get really good results."
      ]
    },
    {
      "cell_type": "markdown",
      "metadata": {
        "id": "zYv0-uVmsxq3"
      },
      "source": [
        "Let's have a look at the most important discriminating features to the Random Forest."
      ]
    },
    {
      "cell_type": "code",
      "metadata": {
        "id": "qCzmPg4Msmgn"
      },
      "source": [
        "def plot_feature_importance(importance, names, model_type):\n",
        "\n",
        "    #Create arrays from feature importance and feature names\n",
        "    feature_importance = np.array(importance)\n",
        "    feature_names = np.array(names)\n",
        "\n",
        "    #Create a DataFrame using a Dictionary\n",
        "    data={'feature_names':feature_names,'feature_importance':feature_importance}\n",
        "    fi_df = pd.DataFrame(data)\n",
        "\n",
        "    #Sort the DataFrame in order decreasing feature importance\n",
        "    fi_df.sort_values(by=['feature_importance'], ascending=False,inplace=True)\n",
        "\n",
        "    #Define size of bar plot\n",
        "    plt.figure(figsize=(10,8))\n",
        "    #Plot Searborn bar chart\n",
        "    sns.barplot(x=fi_df['feature_importance'], y=fi_df['feature_names'])\n",
        "    #Add chart labels\n",
        "    plt.title(model_type + 'FEATURE IMPORTANCE')\n",
        "    plt.xlabel('FEATURE IMPORTANCE')\n",
        "    plt.ylabel('FEATURE NAMES')"
      ],
      "execution_count": 24,
      "outputs": []
    },
    {
      "cell_type": "code",
      "metadata": {
        "colab": {
          "base_uri": "https://localhost:8080/",
          "height": 518
        },
        "id": "YUeAEo1FspYr",
        "outputId": "179ddf76-a61b-4306-a3f5-685366f10969"
      },
      "source": [
        "plot_feature_importance(model_rf.stages[-1].featureImportances, input_features,'RANDOM FOREST')"
      ],
      "execution_count": 25,
      "outputs": [
        {
          "output_type": "display_data",
          "data": {
            "image/png": "[encoded data removed]",
            "text/plain": [
              "<Figure size 720x576 with 1 Axes>"
            ]
          },
          "metadata": {
            "tags": [],
            "needs_background": "light"
          }
        }
      ]
    },
    {
      "cell_type": "markdown",
      "metadata": {
        "id": "B0NNK0Txs1M8"
      },
      "source": [
        "Surprisingly, the age is less important that we thought. Top 3 features were: \n",
        "\n",
        "- error5sum_rollingmean_12\n",
        "- error3sum_rollingmean_12\n",
        "- error2sum_rollingmean_12"
      ]
    },
    {
      "cell_type": "code",
      "metadata": {
        "id": "d1qqd-O9brZ5"
      },
      "source": [
        "# loaded_model = PipelineModel.load(\"drive/My Drive/Soen471/models/CV_RandomForestClassificationModel/\")"
      ],
      "execution_count": 43,
      "outputs": []
    },
    {
      "cell_type": "code",
      "metadata": {
        "id": "7-_n9EXXb7Yi"
      },
      "source": [
        "# ## Predict and evaluate\n",
        "# predictions = loaded_model.transform(testing)\n",
        "# evaluator = MulticlassClassificationEvaluator(labelCol=\"indexedLabel\", predictionCol=\"prediction\", metricName=\"weightedPrecision\")\n",
        "# r2 = evaluator.evaluate(predictions)\n",
        "# print(\"weightedPrecision on test data = %g\" % r2)"
      ],
      "execution_count": 42,
      "outputs": []
    }
  ]
}