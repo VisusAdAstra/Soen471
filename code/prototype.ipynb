{
 "cells": [
  {
   "cell_type": "markdown",
   "id": "realistic-journal",
   "metadata": {},
   "source": [
    "## Data Ingestion"
   ]
  },
  {
   "cell_type": "code",
   "execution_count": 20,
   "id": "charming-addition",
   "metadata": {},
   "outputs": [],
   "source": [
    "import os\n",
    "import sys\n",
    "import copy\n",
    "import time\n",
    "import random\n",
    "import pyspark\n",
    "\n",
    "from pyspark.rdd import RDD\n",
    "from pyspark.sql import Row\n",
    "from pyspark.sql import DataFrame\n",
    "from pyspark.sql import SparkSession\n",
    "from pyspark.sql.functions import desc, size, max, abs, split, col, unix_timestamp, round\n",
    "from pyspark.sql.window import Window\n",
    "import pyspark.sql.functions as F\n",
    "\n",
    "import matplotlib.pyplot as plt\n",
    "import numpy as np\n",
    "\n",
    "from pyspark.ml import Pipeline\n",
    "from pyspark.ml.feature import OneHotEncoder\n",
    "from pyspark.ml.feature import StringIndexer"
   ]
  },
  {
   "cell_type": "code",
   "execution_count": 5,
   "id": "actual-patient",
   "metadata": {},
   "outputs": [],
   "source": [
    "def init_spark():\n",
    "    spark = SparkSession \\\n",
    "        .builder \\\n",
    "        .appName(\"Predictive Maintenance\") \\\n",
    "        .config(\"spark.some.config.option\", \"some-value\") \\\n",
    "        .getOrCreate()\n",
    "    return spark\n",
    "\n",
    "spark = init_spark()"
   ]
  },
  {
   "cell_type": "code",
   "execution_count": 29,
   "id": "systematic-terrain",
   "metadata": {},
   "outputs": [
    {
     "name": "stdout",
     "output_type": "stream",
     "text": [
      "100\n",
      "+---------+------+---+\n",
      "|machineID| model|age|\n",
      "+---------+------+---+\n",
      "|        1|model3| 18|\n",
      "|        2|model4|  7|\n",
      "|        3|model3|  8|\n",
      "|        4|model3|  7|\n",
      "|        5|model3|  2|\n",
      "|        6|model3|  7|\n",
      "|        7|model3| 20|\n",
      "|        8|model3| 16|\n",
      "|        9|model4|  7|\n",
      "|       10|model3| 10|\n",
      "|       11|model2|  6|\n",
      "|       12|model3|  9|\n",
      "|       13|model1| 15|\n",
      "|       14|model3|  1|\n",
      "|       15|model3| 14|\n",
      "|       16|model1|  3|\n",
      "|       17|model1| 14|\n",
      "|       18|model3| 15|\n",
      "|       19|model3| 17|\n",
      "|       20|model2| 16|\n",
      "+---------+------+---+\n",
      "only showing top 20 rows\n",
      "\n"
     ]
    }
   ],
   "source": [
    "filename = \"..\\data\\machines.csv\"\n",
    "machines = spark.read.csv(filename, sep=',', header=True)\n",
    "\n",
    "print(machines.count())\n",
    "machines.show()"
   ]
  },
  {
   "cell_type": "code",
   "execution_count": 9,
   "id": "bigger-shell",
   "metadata": {},
   "outputs": [
    {
     "name": "stdout",
     "output_type": "stream",
     "text": [
      "3919\n",
      "+--------------------+---------+-------+\n",
      "|            datetime|machineID|errorID|\n",
      "+--------------------+---------+-------+\n",
      "| 1/3/2015 7:00:00 AM|        1| error1|\n",
      "| 1/3/2015 8:00:00 PM|        1| error3|\n",
      "| 1/4/2015 6:00:00 AM|        1| error5|\n",
      "|1/10/2015 3:00:00 PM|        1| error4|\n",
      "|1/22/2015 10:00:0...|        1| error4|\n",
      "|1/25/2015 3:00:00 PM|        1| error4|\n",
      "|1/27/2015 4:00:00 AM|        1| error1|\n",
      "|3/3/2015 10:00:00 PM|        1| error2|\n",
      "| 3/5/2015 6:00:00 AM|        1| error1|\n",
      "|3/20/2015 6:00:00 PM|        1| error1|\n",
      "|3/26/2015 1:00:00 AM|        1| error2|\n",
      "|3/31/2015 11:00:0...|        1| error1|\n",
      "|4/19/2015 6:00:00 AM|        1| error2|\n",
      "|4/19/2015 6:00:00 AM|        1| error3|\n",
      "|4/29/2015 7:00:00 PM|        1| error4|\n",
      "|5/4/2015 11:00:00 PM|        1| error2|\n",
      "|5/12/2015 9:00:00 AM|        1| error1|\n",
      "|5/21/2015 7:00:00 AM|        1| error4|\n",
      "|5/24/2015 2:00:00 AM|        1| error3|\n",
      "|5/25/2015 5:00:00 AM|        1| error1|\n",
      "+--------------------+---------+-------+\n",
      "only showing top 20 rows\n",
      "\n"
     ]
    }
   ],
   "source": [
    "filename = \"..\\data\\errors.csv\"\n",
    "errors = spark.read.csv(filename, sep=',', header=True)\n",
    "\n",
    "print(errors.count())\n",
    "errors.show()"
   ]
  },
  {
   "cell_type": "code",
   "execution_count": 7,
   "id": "absent-thursday",
   "metadata": {},
   "outputs": [
    {
     "name": "stdout",
     "output_type": "stream",
     "text": [
      "719\n",
      "+--------------------+---------+\n",
      "|            datetime|machineID|\n",
      "+--------------------+---------+\n",
      "| 1/5/2015 6:00:00 AM|        1|\n",
      "| 3/6/2015 6:00:00 AM|        1|\n",
      "|4/20/2015 6:00:00 AM|        1|\n",
      "|6/19/2015 6:00:00 AM|        1|\n",
      "| 9/2/2015 6:00:00 AM|        1|\n",
      "|10/17/2015 6:00:0...|        1|\n",
      "|12/16/2015 6:00:0...|        1|\n",
      "|3/19/2015 6:00:00 AM|        2|\n",
      "|4/18/2015 6:00:00 AM|        2|\n",
      "|12/29/2015 6:00:0...|        2|\n",
      "| 1/7/2015 6:00:00 AM|        3|\n",
      "| 2/6/2015 6:00:00 AM|        3|\n",
      "|7/21/2015 6:00:00 AM|        3|\n",
      "|10/4/2015 6:00:00 AM|        3|\n",
      "|12/3/2015 6:00:00 AM|        3|\n",
      "|1/17/2015 6:00:00 AM|        4|\n",
      "|2/16/2015 6:00:00 AM|        4|\n",
      "| 4/2/2015 6:00:00 AM|        4|\n",
      "|7/16/2015 6:00:00 AM|        4|\n",
      "|8/30/2015 6:00:00 AM|        4|\n",
      "+--------------------+---------+\n",
      "only showing top 20 rows\n",
      "\n"
     ]
    }
   ],
   "source": [
    "filename = \"..\\data\\\\failures.csv\"\n",
    "failures  = spark.read.csv(filename, sep=',', header=True)\n",
    "\n",
    "print(failures.count())\n",
    "failures.show()"
   ]
  },
  {
   "cell_type": "code",
   "execution_count": 56,
   "id": "loving-plenty",
   "metadata": {},
   "outputs": [
    {
     "name": "stdout",
     "output_type": "stream",
     "text": [
      "876100\n",
      "+-------------------+---------+----------------+----------------+----------------+----------------+\n",
      "|           datetime|machineID|            volt|          rotate|        pressure|       vibration|\n",
      "+-------------------+---------+----------------+----------------+----------------+----------------+\n",
      "|2015-01-01 06:00:00|        1|176.217853015625|418.504078221616|113.077935462083|45.0876857639276|\n",
      "|2015-01-01 07:00:00|        1| 162.87922289706|402.747489565395|95.4605253823187|43.4139726834815|\n",
      "|2015-01-01 08:00:00|        1|170.989902405567|527.349825452291|75.2379048586662|34.1788471214451|\n",
      "|2015-01-01 09:00:00|        1|162.462833264092|346.149335043074|109.248561276504|41.1221440884256|\n",
      "|2015-01-01 10:00:00|        1| 157.61002119306|435.376873016938|111.886648210168|25.9905109982024|\n",
      "|2015-01-01 11:00:00|        1|172.504839196295|430.323362106675|95.9270416939636|35.6550173268837|\n",
      "|2015-01-01 12:00:00|        1|156.556030606329|499.071623068962|111.755684290096|42.7539196974773|\n",
      "|2015-01-01 13:00:00|        1|172.522780814836|409.624717000438| 101.00108276407|35.4820086610704|\n",
      "|2015-01-01 14:00:00|        1|175.324523915223|398.648780707752|110.624360548654|45.4822868466294|\n",
      "|2015-01-01 15:00:00|        1|169.218423246933|460.850669930244|104.848229967003|39.9017354356787|\n",
      "|2015-01-01 16:00:00|        1|167.060980719256|382.483542906686|103.780662505568|42.6757999060571|\n",
      "|2015-01-01 17:00:00|        1|160.263953725914|448.084255968416|96.4809756730127|38.5436809273919|\n",
      "|2015-01-01 18:00:00|        1|153.353491529019|490.672921027229|86.0124402476987|44.1085543746712|\n",
      "|2015-01-01 19:00:00|        1|182.739113039826|418.199251966527|93.4849540613739|41.3671897268129|\n",
      "|2015-01-01 20:00:00|        1| 170.33543789114|402.461186552994|93.2357870560117|39.7398826787247|\n",
      "|2015-01-01 21:00:00|        1|182.467109259603|501.918972726944|85.7626146951866|51.0214861151087|\n",
      "|2015-01-01 22:00:00|        1|151.335682229837|444.922656455828|94.2473713287117|42.1196520943364|\n",
      "|2015-01-01 23:00:00|        1|172.535396206493|511.886364263088|91.3294290707084|32.2488323711174|\n",
      "|2015-01-02 00:00:00|        1|180.097494604215|486.712303934437|96.7339151541194|38.8967757315964|\n",
      "|2015-01-02 01:00:00|        1|169.605854353272|519.452812074631|78.8807795743296|40.1568749074533|\n",
      "+-------------------+---------+----------------+----------------+----------------+----------------+\n",
      "only showing top 20 rows\n",
      "\n"
     ]
    },
    {
     "data": {
      "text/html": [
       "<div>\n",
       "<style scoped>\n",
       "    .dataframe tbody tr th:only-of-type {\n",
       "        vertical-align: middle;\n",
       "    }\n",
       "\n",
       "    .dataframe tbody tr th {\n",
       "        vertical-align: top;\n",
       "    }\n",
       "\n",
       "    .dataframe thead th {\n",
       "        text-align: right;\n",
       "    }\n",
       "</style>\n",
       "<table border=\"1\" class=\"dataframe\">\n",
       "  <thead>\n",
       "    <tr style=\"text-align: right;\">\n",
       "      <th></th>\n",
       "      <th>datetime</th>\n",
       "      <th>machineID</th>\n",
       "      <th>volt</th>\n",
       "      <th>rotate</th>\n",
       "      <th>pressure</th>\n",
       "      <th>vibration</th>\n",
       "    </tr>\n",
       "  </thead>\n",
       "  <tbody>\n",
       "    <tr>\n",
       "      <th>0</th>\n",
       "      <td>2015-01-01 06:00:00</td>\n",
       "      <td>1</td>\n",
       "      <td>176.217853015625</td>\n",
       "      <td>418.504078221616</td>\n",
       "      <td>113.077935462083</td>\n",
       "      <td>45.0876857639276</td>\n",
       "    </tr>\n",
       "    <tr>\n",
       "      <th>1</th>\n",
       "      <td>2015-01-01 07:00:00</td>\n",
       "      <td>1</td>\n",
       "      <td>162.87922289706</td>\n",
       "      <td>402.747489565395</td>\n",
       "      <td>95.4605253823187</td>\n",
       "      <td>43.4139726834815</td>\n",
       "    </tr>\n",
       "    <tr>\n",
       "      <th>2</th>\n",
       "      <td>2015-01-01 08:00:00</td>\n",
       "      <td>1</td>\n",
       "      <td>170.989902405567</td>\n",
       "      <td>527.349825452291</td>\n",
       "      <td>75.2379048586662</td>\n",
       "      <td>34.1788471214451</td>\n",
       "    </tr>\n",
       "    <tr>\n",
       "      <th>3</th>\n",
       "      <td>2015-01-01 09:00:00</td>\n",
       "      <td>1</td>\n",
       "      <td>162.462833264092</td>\n",
       "      <td>346.149335043074</td>\n",
       "      <td>109.248561276504</td>\n",
       "      <td>41.1221440884256</td>\n",
       "    </tr>\n",
       "    <tr>\n",
       "      <th>4</th>\n",
       "      <td>2015-01-01 10:00:00</td>\n",
       "      <td>1</td>\n",
       "      <td>157.61002119306</td>\n",
       "      <td>435.376873016938</td>\n",
       "      <td>111.886648210168</td>\n",
       "      <td>25.9905109982024</td>\n",
       "    </tr>\n",
       "  </tbody>\n",
       "</table>\n",
       "</div>"
      ],
      "text/plain": [
       "              datetime machineID              volt            rotate  \\\n",
       "0  2015-01-01 06:00:00         1  176.217853015625  418.504078221616   \n",
       "1  2015-01-01 07:00:00         1   162.87922289706  402.747489565395   \n",
       "2  2015-01-01 08:00:00         1  170.989902405567  527.349825452291   \n",
       "3  2015-01-01 09:00:00         1  162.462833264092  346.149335043074   \n",
       "4  2015-01-01 10:00:00         1   157.61002119306  435.376873016938   \n",
       "\n",
       "           pressure         vibration  \n",
       "0  113.077935462083  45.0876857639276  \n",
       "1  95.4605253823187  43.4139726834815  \n",
       "2  75.2379048586662  34.1788471214451  \n",
       "3  109.248561276504  41.1221440884256  \n",
       "4  111.886648210168  25.9905109982024  "
      ]
     },
     "execution_count": 56,
     "metadata": {},
     "output_type": "execute_result"
    }
   ],
   "source": [
    "filename = \"..\\data\\\\telemetry.csv\"\n",
    "telemetry = spark.read.csv(filename, sep=',', header=True)\n",
    "\n",
    "print(telemetry.count())\n",
    "telemetry.show()\n",
    "telemetry.limit(25).toPandas().head()"
   ]
  },
  {
   "cell_type": "code",
   "execution_count": 1,
   "id": "seven-greek",
   "metadata": {},
   "outputs": [],
   "source": [
    "def plot_ts(ax, values, times, label=None, color='blue', xmin=None, xmax=None, ymin=None, ymax=None, anomalies=None):\n",
    "    step = 700\n",
    "    if xmin is not None:\n",
    "        assert(xmax is not None)\n",
    "        ax.set(xlim=(xmin, xmax))\n",
    "    if ymin is not None:\n",
    "        assert(ymax is not None)\n",
    "        ax.set(ylim=(ymin, ymax))\n",
    "    if xmin is None:\n",
    "        ax.set_xticks([i for i in range(len(values)) if i % step == 0])\n",
    "        ax.set_xticklabels([times[i] for i in range(len(values)) if i % step == 0])\n",
    "    ax.plot(values, label=label, color=color)\n",
    "    if anomalies is not None:\n",
    "        x, y = anomalies\n",
    "        ax.scatter(x, y, label='Anomalies', color='red')\n",
    "    if label is not None:\n",
    "        ax.legend()"
   ]
  },
  {
   "cell_type": "code",
   "execution_count": 10,
   "id": "amazing-truth",
   "metadata": {},
   "outputs": [
    {
     "ename": "TypeError",
     "evalue": "object of type 'Column' has no len()",
     "output_type": "error",
     "traceback": [
      "\u001b[1;31m---------------------------------------------------------------------------\u001b[0m",
      "\u001b[1;31mTypeError\u001b[0m                                 Traceback (most recent call last)",
      "\u001b[1;32m<ipython-input-10-28498fd8a2b3>\u001b[0m in \u001b[0;36m<module>\u001b[1;34m\u001b[0m\n\u001b[0;32m      4\u001b[0m \u001b[0mtelemetry_values\u001b[0m \u001b[1;33m=\u001b[0m \u001b[0mtelemetry\u001b[0m\u001b[1;33m[\u001b[0m\u001b[1;34m'volt'\u001b[0m\u001b[1;33m]\u001b[0m\u001b[1;33m\u001b[0m\u001b[1;33m\u001b[0m\u001b[0m\n\u001b[0;32m      5\u001b[0m \u001b[0mtelemetry_dates\u001b[0m \u001b[1;33m=\u001b[0m \u001b[0mtelemetry\u001b[0m\u001b[1;33m[\u001b[0m\u001b[1;34m'datetime'\u001b[0m\u001b[1;33m]\u001b[0m\u001b[1;33m\u001b[0m\u001b[1;33m\u001b[0m\u001b[0m\n\u001b[1;32m----> 6\u001b[1;33m \u001b[0mplot_ts\u001b[0m\u001b[1;33m(\u001b[0m\u001b[0max\u001b[0m\u001b[1;33m,\u001b[0m \u001b[0mtelemetry_values\u001b[0m\u001b[1;33m,\u001b[0m \u001b[0mtelemetry_dates\u001b[0m\u001b[1;33m,\u001b[0m \u001b[0mlabel\u001b[0m\u001b[1;33m=\u001b[0m\u001b[1;34m\"volt\"\u001b[0m\u001b[1;33m,\u001b[0m \u001b[0mcolor\u001b[0m\u001b[1;33m=\u001b[0m\u001b[1;34m'green'\u001b[0m\u001b[1;33m)\u001b[0m\u001b[1;33m\u001b[0m\u001b[1;33m\u001b[0m\u001b[0m\n\u001b[0m",
      "\u001b[1;32m<ipython-input-1-633a61a015f7>\u001b[0m in \u001b[0;36mplot_ts\u001b[1;34m(ax, values, times, label, color, xmin, xmax, ymin, ymax, anomalies)\u001b[0m\n\u001b[0;32m      8\u001b[0m         \u001b[0max\u001b[0m\u001b[1;33m.\u001b[0m\u001b[0mset\u001b[0m\u001b[1;33m(\u001b[0m\u001b[0mylim\u001b[0m\u001b[1;33m=\u001b[0m\u001b[1;33m(\u001b[0m\u001b[0mymin\u001b[0m\u001b[1;33m,\u001b[0m \u001b[0mymax\u001b[0m\u001b[1;33m)\u001b[0m\u001b[1;33m)\u001b[0m\u001b[1;33m\u001b[0m\u001b[1;33m\u001b[0m\u001b[0m\n\u001b[0;32m      9\u001b[0m     \u001b[1;32mif\u001b[0m \u001b[0mxmin\u001b[0m \u001b[1;32mis\u001b[0m \u001b[1;32mNone\u001b[0m\u001b[1;33m:\u001b[0m\u001b[1;33m\u001b[0m\u001b[1;33m\u001b[0m\u001b[0m\n\u001b[1;32m---> 10\u001b[1;33m         \u001b[0max\u001b[0m\u001b[1;33m.\u001b[0m\u001b[0mset_xticks\u001b[0m\u001b[1;33m(\u001b[0m\u001b[1;33m[\u001b[0m\u001b[0mi\u001b[0m \u001b[1;32mfor\u001b[0m \u001b[0mi\u001b[0m \u001b[1;32min\u001b[0m \u001b[0mrange\u001b[0m\u001b[1;33m(\u001b[0m\u001b[0mlen\u001b[0m\u001b[1;33m(\u001b[0m\u001b[0mvalues\u001b[0m\u001b[1;33m)\u001b[0m\u001b[1;33m)\u001b[0m \u001b[1;32mif\u001b[0m \u001b[0mi\u001b[0m \u001b[1;33m%\u001b[0m \u001b[0mstep\u001b[0m \u001b[1;33m==\u001b[0m \u001b[1;36m0\u001b[0m\u001b[1;33m]\u001b[0m\u001b[1;33m)\u001b[0m\u001b[1;33m\u001b[0m\u001b[1;33m\u001b[0m\u001b[0m\n\u001b[0m\u001b[0;32m     11\u001b[0m         \u001b[0max\u001b[0m\u001b[1;33m.\u001b[0m\u001b[0mset_xticklabels\u001b[0m\u001b[1;33m(\u001b[0m\u001b[1;33m[\u001b[0m\u001b[0mtimes\u001b[0m\u001b[1;33m[\u001b[0m\u001b[0mi\u001b[0m\u001b[1;33m]\u001b[0m \u001b[1;32mfor\u001b[0m \u001b[0mi\u001b[0m \u001b[1;32min\u001b[0m \u001b[0mrange\u001b[0m\u001b[1;33m(\u001b[0m\u001b[0mlen\u001b[0m\u001b[1;33m(\u001b[0m\u001b[0mvalues\u001b[0m\u001b[1;33m)\u001b[0m\u001b[1;33m)\u001b[0m \u001b[1;32mif\u001b[0m \u001b[0mi\u001b[0m \u001b[1;33m%\u001b[0m \u001b[0mstep\u001b[0m \u001b[1;33m==\u001b[0m \u001b[1;36m0\u001b[0m\u001b[1;33m]\u001b[0m\u001b[1;33m)\u001b[0m\u001b[1;33m\u001b[0m\u001b[1;33m\u001b[0m\u001b[0m\n\u001b[0;32m     12\u001b[0m     \u001b[0max\u001b[0m\u001b[1;33m.\u001b[0m\u001b[0mplot\u001b[0m\u001b[1;33m(\u001b[0m\u001b[0mvalues\u001b[0m\u001b[1;33m,\u001b[0m \u001b[0mlabel\u001b[0m\u001b[1;33m=\u001b[0m\u001b[0mlabel\u001b[0m\u001b[1;33m,\u001b[0m \u001b[0mcolor\u001b[0m\u001b[1;33m=\u001b[0m\u001b[0mcolor\u001b[0m\u001b[1;33m)\u001b[0m\u001b[1;33m\u001b[0m\u001b[1;33m\u001b[0m\u001b[0m\n",
      "\u001b[1;31mTypeError\u001b[0m: object of type 'Column' has no len()"
     ]
    },
    {
     "data": {
      "image/png": "[encoded data removed]",
      "text/plain": [
       "<Figure size 1728x576 with 1 Axes>"
      ]
     },
     "metadata": {
      "needs_background": "light"
     },
     "output_type": "display_data"
    }
   ],
   "source": [
    "fs = (24, 8)\n",
    "fig, ax = plt.subplots(1, 1, figsize=fs)\n",
    "\n",
    "telemetry_values = telemetry['volt']\n",
    "telemetry_dates = telemetry['datetime']\n",
    "plot_ts(ax, telemetry_values, telemetry_dates, label=\"volt\", color='green')"
   ]
  },
  {
   "cell_type": "markdown",
   "id": "dramatic-absorption",
   "metadata": {},
   "source": [
    "# Time Window"
   ]
  },
  {
   "cell_type": "code",
   "execution_count": 57,
   "id": "handmade-revelation",
   "metadata": {},
   "outputs": [],
   "source": [
    "# rolling mean and standard deviation\n",
    "# Temporary storage for rolling means\n",
    "tel_mean = telemetry\n",
    "\n",
    "# Engineer features\n",
    "rolling_features = ['volt','rotate', 'pressure', 'vibration']\n",
    "      \n",
    "# n hours = n * 3600 seconds  \n",
    "time_val = 12 * 3600\n",
    "\n",
    "# Choose the time_val hour timestamps to align the data\n",
    "# dt_truncated looks at the column named \"datetime\" in the current data set.\n",
    "# remember that Spark is lazy... this doesn't execute until it is in a withColumn statement.\n",
    "dt_truncated = ((round(unix_timestamp(col(\"datetime\")) / time_val) * time_val).cast(\"timestamp\"))"
   ]
  },
  {
   "cell_type": "code",
   "execution_count": 59,
   "id": "unlikely-asthma",
   "metadata": {},
   "outputs": [
    {
     "name": "stdout",
     "output_type": "stream",
     "text": [
      "876100\n",
      "73100\n"
     ]
    }
   ],
   "source": [
    "lags = [12, 24, 36] #in hours\n",
    "\n",
    "# align the data\n",
    "for lag_n in lags:\n",
    "    wSpec = Window.partitionBy('machineID').orderBy('datetime').rowsBetween(1-lag_n, 0)\n",
    "    for col_name in rolling_features:\n",
    "        tel_mean = tel_mean.withColumn(col_name+'_rollingmean_'+str(lag_n), \n",
    "                                       F.avg(col(col_name)).over(wSpec))\n",
    "        tel_mean = tel_mean.withColumn(col_name+'_rollingstd_'+str(lag_n), \n",
    "                                       F.stddev(col(col_name)).over(wSpec))\n",
    "\n",
    "# Calculate lag values...\n",
    "telemetry_feat = (tel_mean.withColumn(\"dt_truncated\", dt_truncated)\n",
    "                  .drop('volt', 'rotate', 'pressure', 'vibration')\n",
    "                  .fillna(0)\n",
    "                  .groupBy(\"machineID\",\"dt_truncated\")\n",
    "                  .agg(F.mean('volt_rollingmean_12').alias('volt_rollingmean_12'),\n",
    "                       F.mean('rotate_rollingmean_12').alias('rotate_rollingmean_12'), \n",
    "                       F.mean('pressure_rollingmean_12').alias('pressure_rollingmean_12'), \n",
    "                       F.mean('vibration_rollingmean_12').alias('vibration_rollingmean_12'), \n",
    "                       F.mean('volt_rollingmean_24').alias('volt_rollingmean_24'),\n",
    "                       F.mean('rotate_rollingmean_24').alias('rotate_rollingmean_24'), \n",
    "                       F.mean('pressure_rollingmean_24').alias('pressure_rollingmean_24'), \n",
    "                       F.mean('vibration_rollingmean_24').alias('vibration_rollingmean_24'),\n",
    "                       F.mean('volt_rollingmean_36').alias('volt_rollingmean_36'),\n",
    "                       F.mean('vibration_rollingmean_36').alias('vibration_rollingmean_36'),\n",
    "                       F.mean('rotate_rollingmean_36').alias('rotate_rollingmean_36'), \n",
    "                       F.mean('pressure_rollingmean_36').alias('pressure_rollingmean_36'), \n",
    "                       F.stddev('volt_rollingstd_12').alias('volt_rollingstd_12'),\n",
    "                       F.stddev('rotate_rollingstd_12').alias('rotate_rollingstd_12'), \n",
    "                       F.stddev('pressure_rollingstd_12').alias('pressure_rollingstd_12'), \n",
    "                       F.stddev('vibration_rollingstd_12').alias('vibration_rollingstd_12'), \n",
    "                       F.stddev('volt_rollingstd_24').alias('volt_rollingstd_24'),\n",
    "                       F.stddev('rotate_rollingstd_24').alias('rotate_rollingstd_24'), \n",
    "                       F.stddev('pressure_rollingstd_24').alias('pressure_rollingstd_24'), \n",
    "                       F.stddev('vibration_rollingstd_24').alias('vibration_rollingstd_24'),\n",
    "                       F.stddev('volt_rollingstd_36').alias('volt_rollingstd_36'),\n",
    "                       F.stddev('rotate_rollingstd_36').alias('rotate_rollingstd_36'), \n",
    "                       F.stddev('pressure_rollingstd_36').alias('pressure_rollingstd_36'), \n",
    "                       F.stddev('vibration_rollingstd_36').alias('vibration_rollingstd_36'), ))\n",
    "\n",
    "print(tel_mean.count())\n",
    "print(telemetry_feat.count())\n",
    "#telemetry_feat.where((col(\"machineID\") == 1)).limit(10).toPandas().head(10)"
   ]
  },
  {
   "cell_type": "code",
   "execution_count": 58,
   "id": "colonial-detail",
   "metadata": {},
   "outputs": [
    {
     "name": "stdout",
     "output_type": "stream",
     "text": [
      "+-------------------+---------+-------------------+\n",
      "|           datetime|machineID|       dt_truncated|\n",
      "+-------------------+---------+-------------------+\n",
      "|2015-01-01 06:00:00|        1|2015-01-01 07:00:00|\n",
      "|2015-01-01 07:00:00|        1|2015-01-01 07:00:00|\n",
      "|2015-01-01 08:00:00|        1|2015-01-01 07:00:00|\n",
      "|2015-01-01 09:00:00|        1|2015-01-01 07:00:00|\n",
      "|2015-01-01 10:00:00|        1|2015-01-01 07:00:00|\n",
      "|2015-01-01 11:00:00|        1|2015-01-01 07:00:00|\n",
      "|2015-01-01 12:00:00|        1|2015-01-01 07:00:00|\n",
      "|2015-01-01 13:00:00|        1|2015-01-01 19:00:00|\n",
      "|2015-01-01 14:00:00|        1|2015-01-01 19:00:00|\n",
      "|2015-01-01 15:00:00|        1|2015-01-01 19:00:00|\n",
      "|2015-01-01 16:00:00|        1|2015-01-01 19:00:00|\n",
      "|2015-01-01 17:00:00|        1|2015-01-01 19:00:00|\n",
      "|2015-01-01 18:00:00|        1|2015-01-01 19:00:00|\n",
      "|2015-01-01 19:00:00|        1|2015-01-01 19:00:00|\n",
      "|2015-01-01 20:00:00|        1|2015-01-01 19:00:00|\n",
      "|2015-01-01 21:00:00|        1|2015-01-01 19:00:00|\n",
      "|2015-01-01 22:00:00|        1|2015-01-01 19:00:00|\n",
      "|2015-01-01 23:00:00|        1|2015-01-01 19:00:00|\n",
      "|2015-01-02 00:00:00|        1|2015-01-01 19:00:00|\n",
      "|2015-01-02 01:00:00|        1|2015-01-02 07:00:00|\n",
      "+-------------------+---------+-------------------+\n",
      "only showing top 20 rows\n",
      "\n"
     ]
    }
   ],
   "source": [
    "test = tel_mean.withColumn(\"dt_truncated\", dt_truncated).drop('volt', 'rotate', 'pressure', 'vibration').show()"
   ]
  },
  {
   "cell_type": "code",
   "execution_count": null,
   "id": "alert-generic",
   "metadata": {},
   "outputs": [],
   "source": []
  }
 ],
 "metadata": {
  "kernelspec": {
   "display_name": "bigdata",
   "language": "python",
   "name": "bigdata"
  },
  "language_info": {
   "codemirror_mode": {
    "name": "ipython",
    "version": 3
   },
   "file_extension": ".py",
   "mimetype": "text/x-python",
   "name": "python",
   "nbconvert_exporter": "python",
   "pygments_lexer": "ipython3",
   "version": "3.6.12"
  }
 },
 "nbformat": 4,
 "nbformat_minor": 5
}
